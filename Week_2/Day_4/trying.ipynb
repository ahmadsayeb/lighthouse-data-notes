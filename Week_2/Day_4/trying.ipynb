{
 "cells": [
  {
   "cell_type": "code",
   "execution_count": 15,
   "metadata": {},
   "outputs": [],
   "source": [
    "import pandas as pd\n",
    "import os\n",
    "import requests as re\n",
    "import json\n",
    "from IPython.display import JSON \n",
    "import numpy as np\n",
    "from numpy.random import default_rng"
   ]
  },
  {
   "cell_type": "code",
   "execution_count": null,
   "metadata": {},
   "outputs": [],
   "source": []
  },
  {
   "cell_type": "code",
   "execution_count": 5,
   "metadata": {},
   "outputs": [],
   "source": [
    "api_key='6jzXY72Qz52SlqSsOQ1oPpnp5VD4HaMLkWKOH40PisqqynCz3O2_UfgpyQkMmapcAmGp8W1xFevpkWJgY99Gk0xhS7G2DLbCusHxpIfOiRpsyY2YkUSuqdl10rFsX3Yx'\n",
    "headers = {'Authorization': 'Bearer %s' % api_key}"
   ]
  },
  {
   "cell_type": "code",
   "execution_count": 21,
   "metadata": {},
   "outputs": [],
   "source": [
    "url='https://api.yelp.com/v3/businesses/search'\n",
    " \n",
    "# In the dictionary, term can take values like food, cafes or businesses like McDonalds\n",
    "params = {'term':'bar','latitude':'39.16037061','longitude':'-86.5336'}"
   ]
  },
  {
   "cell_type": "code",
   "execution_count": 22,
   "metadata": {},
   "outputs": [],
   "source": [
    "req=re.get(url, params=params, headers=headers)\n",
    "req_jsoned = json.loads(req.text)"
   ]
  },
  {
   "cell_type": "code",
   "execution_count": 23,
   "metadata": {},
   "outputs": [
    {
     "data": {
      "application/json": {
       "businesses": [
        {
         "alias": "the-atlas-ballroom-bloomington",
         "categories": [
          {
           "alias": "bars",
           "title": "Bars"
          }
         ],
         "coordinates": {
          "latitude": 39.165210493899,
          "longitude": -86.5346451399009
         },
         "display_phone": "(812) 334-4435",
         "distance": 545.6612373612336,
         "id": "IyyctzTLXHUgKTCkU5tbfg",
         "image_url": "https://s3-media4.fl.yelpcdn.com/bphoto/ZVjatL7QH4xpM4PoYbByow/o.jpg",
         "is_closed": false,
         "location": {
          "address1": "209 S College Ave",
          "address2": "",
          "address3": "",
          "city": "Bloomington",
          "country": "US",
          "display_address": [
           "209 S College Ave",
           "Bloomington, IN 47404"
          ],
          "state": "IN",
          "zip_code": "47404"
         },
         "name": "The Atlas Ballroom",
         "phone": "+18123344435",
         "price": "$",
         "rating": 4,
         "review_count": 53,
         "transactions": [],
         "url": "https://www.yelp.com/biz/the-atlas-ballroom-bloomington?adjust_creative=K6e1l42fOS0spB9kinfKMw&utm_campaign=yelp_api_v3&utm_medium=api_v3_business_search&utm_source=K6e1l42fOS0spB9kinfKMw"
        },
        {
         "alias": "village-pub-bloomington",
         "categories": [
          {
           "alias": "pubs",
           "title": "Pubs"
          }
         ],
         "coordinates": {
          "latitude": 39.1679,
          "longitude": -86.53338
         },
         "display_phone": "(812) 668-2085",
         "distance": 833.8350539891017,
         "id": "7i-_zyo4X7pF895dm1LRBg",
         "image_url": "https://s3-media4.fl.yelpcdn.com/bphoto/TYP6SQWu0hwUjP2EURSHAw/o.jpg",
         "is_closed": false,
         "location": {
          "address1": "206 N Walnut St",
          "address2": null,
          "address3": "",
          "city": "Bloomington",
          "country": "US",
          "display_address": [
           "206 N Walnut St",
           "Bloomington, IN 47404"
          ],
          "state": "IN",
          "zip_code": "47404"
         },
         "name": "Village Pub",
         "phone": "+18126682085",
         "price": "$$",
         "rating": 4.5,
         "review_count": 22,
         "transactions": [
          "delivery"
         ],
         "url": "https://www.yelp.com/biz/village-pub-bloomington?adjust_creative=K6e1l42fOS0spB9kinfKMw&utm_campaign=yelp_api_v3&utm_medium=api_v3_business_search&utm_source=K6e1l42fOS0spB9kinfKMw"
        },
        {
         "alias": "the-root-cellar-bloomington",
         "categories": [
          {
           "alias": "bars",
           "title": "Bars"
          }
         ],
         "coordinates": {
          "latitude": 39.166271,
          "longitude": -86.533081
         },
         "display_phone": "(812) 323-0002",
         "distance": 659.954779809972,
         "id": "H9W1GFQE5jx6EmGcCRciAg",
         "image_url": "https://s3-media3.fl.yelpcdn.com/bphoto/AltGE8qXCrfeOOhhpN0W-A/o.jpg",
         "is_closed": false,
         "location": {
          "address1": "108 E Kirkwood Ave",
          "address2": "",
          "address3": "",
          "city": "Bloomington",
          "country": "US",
          "display_address": [
           "108 E Kirkwood Ave",
           "Bloomington, IN 47408"
          ],
          "state": "IN",
          "zip_code": "47408"
         },
         "name": "The Root Cellar",
         "phone": "+18123230002",
         "price": "$$",
         "rating": 4,
         "review_count": 18,
         "transactions": [],
         "url": "https://www.yelp.com/biz/the-root-cellar-bloomington?adjust_creative=K6e1l42fOS0spB9kinfKMw&utm_campaign=yelp_api_v3&utm_medium=api_v3_business_search&utm_source=K6e1l42fOS0spB9kinfKMw"
        },
        {
         "alias": "cardinal-spirits-bloomington-3",
         "categories": [
          {
           "alias": "cocktailbars",
           "title": "Cocktail Bars"
          },
          {
           "alias": "distilleries",
           "title": "Distilleries"
          },
          {
           "alias": "newamerican",
           "title": "American (New)"
          }
         ],
         "coordinates": {
          "latitude": 39.15619,
          "longitude": -86.53662
         },
         "display_phone": "(812) 202-6789",
         "distance": 528.0305573989175,
         "id": "zMWjsqs6H6jiLaDcKq6g4w",
         "image_url": "https://s3-media2.fl.yelpcdn.com/bphoto/U3UBBRjxiDnYgoUH-W10ow/o.jpg",
         "is_closed": false,
         "location": {
          "address1": "922 S Morton St",
          "address2": "",
          "address3": "",
          "city": "Bloomington",
          "country": "US",
          "display_address": [
           "922 S Morton St",
           "Bloomington, IN 47403"
          ],
          "state": "IN",
          "zip_code": "47403"
         },
         "name": "Cardinal Spirits",
         "phone": "+18122026789",
         "price": "$$",
         "rating": 4.5,
         "review_count": 191,
         "transactions": [],
         "url": "https://www.yelp.com/biz/cardinal-spirits-bloomington-3?adjust_creative=K6e1l42fOS0spB9kinfKMw&utm_campaign=yelp_api_v3&utm_medium=api_v3_business_search&utm_source=K6e1l42fOS0spB9kinfKMw"
        },
        {
         "alias": "kilroys-bar-and-grill-bloomington-2",
         "categories": [
          {
           "alias": "sportsbars",
           "title": "Sports Bars"
          }
         ],
         "coordinates": {
          "latitude": 39.16633,
          "longitude": -86.52802
         },
         "display_phone": "(812) 339-3006",
         "distance": 816.1998827178816,
         "id": "IbfFmDHI3l2Yftg8MMdPzQ",
         "image_url": "https://s3-media1.fl.yelpcdn.com/bphoto/qE-cmcT9iWyj7FAaFsYWhQ/o.jpg",
         "is_closed": false,
         "location": {
          "address1": "502 E Kirkwood Ave",
          "address2": "",
          "address3": "",
          "city": "Bloomington",
          "country": "US",
          "display_address": [
           "502 E Kirkwood Ave",
           "Bloomington, IN 47408"
          ],
          "state": "IN",
          "zip_code": "47408"
         },
         "name": "Kilroy's Bar and Grill",
         "phone": "+18123393006",
         "price": "$",
         "rating": 3,
         "review_count": 90,
         "transactions": [
          "delivery"
         ],
         "url": "https://www.yelp.com/biz/kilroys-bar-and-grill-bloomington-2?adjust_creative=K6e1l42fOS0spB9kinfKMw&utm_campaign=yelp_api_v3&utm_medium=api_v3_business_search&utm_source=K6e1l42fOS0spB9kinfKMw"
        },
        {
         "alias": "the-back-door-bloomington",
         "categories": [
          {
           "alias": "gaybars",
           "title": "Gay Bars"
          },
          {
           "alias": "danceclubs",
           "title": "Dance Clubs"
          }
         ],
         "coordinates": {
          "latitude": 39.165196889799,
          "longitude": -86.5343478158691
         },
         "display_phone": "(812) 333-3123",
         "distance": 540.5162235653447,
         "id": "lkF6fl50Nnp3iygRlJtczQ",
         "image_url": "https://s3-media2.fl.yelpcdn.com/bphoto/kjo4luV35rB36QK6hvtvNA/o.jpg",
         "is_closed": false,
         "location": {
          "address1": "207 S College Ave",
          "address2": "",
          "address3": "",
          "city": "Bloomington",
          "country": "US",
          "display_address": [
           "207 S College Ave",
           "Bloomington, IN 47404"
          ],
          "state": "IN",
          "zip_code": "47404"
         },
         "name": "The Back Door",
         "phone": "+18123333123",
         "price": "$",
         "rating": 3.5,
         "review_count": 27,
         "transactions": [],
         "url": "https://www.yelp.com/biz/the-back-door-bloomington?adjust_creative=K6e1l42fOS0spB9kinfKMw&utm_campaign=yelp_api_v3&utm_medium=api_v3_business_search&utm_source=K6e1l42fOS0spB9kinfKMw"
        },
        {
         "alias": "orbit-room-bloomington",
         "categories": [
          {
           "alias": "bars",
           "title": "Bars"
          },
          {
           "alias": "arcades",
           "title": "Arcades"
          }
         ],
         "coordinates": {
          "latitude": 39.1668756664117,
          "longitude": -86.5348846109176
         },
         "display_phone": "",
         "distance": 731.7582046696946,
         "id": "7KGPiTh9Suge3f1zmyWQoA",
         "image_url": "https://s3-media2.fl.yelpcdn.com/bphoto/7SvXgvt-vwF6o1gqNsQvYQ/o.jpg",
         "is_closed": false,
         "location": {
          "address1": "107 N College Ave",
          "address2": "",
          "address3": null,
          "city": "Bloomington",
          "country": "US",
          "display_address": [
           "107 N College Ave",
           "Bloomington, IN 47404"
          ],
          "state": "IN",
          "zip_code": "47404"
         },
         "name": "Orbit Room",
         "phone": "",
         "rating": 4.5,
         "review_count": 9,
         "transactions": [],
         "url": "https://www.yelp.com/biz/orbit-room-bloomington?adjust_creative=K6e1l42fOS0spB9kinfKMw&utm_campaign=yelp_api_v3&utm_medium=api_v3_business_search&utm_source=K6e1l42fOS0spB9kinfKMw"
        },
        {
         "alias": "switchyard-brewing-company-bloomington",
         "categories": [
          {
           "alias": "bars",
           "title": "Bars"
          },
          {
           "alias": "venues",
           "title": "Venues & Event Spaces"
          },
          {
           "alias": "brewpubs",
           "title": "Brewpubs"
          }
         ],
         "coordinates": {
          "latitude": 39.17012,
          "longitude": -86.53394
         },
         "display_phone": "(812) 287-8295",
         "distance": 1081.4143875068246,
         "id": "A2iRkypjsmL9YlBOnRuWZA",
         "image_url": "https://s3-media3.fl.yelpcdn.com/bphoto/6xJapm8psQFgluldUXhxbg/o.jpg",
         "is_closed": false,
         "location": {
          "address1": "419 N Walnut St",
          "address2": null,
          "address3": "",
          "city": "Bloomington",
          "country": "US",
          "display_address": [
           "419 N Walnut St",
           "Bloomington, IN 47404"
          ],
          "state": "IN",
          "zip_code": "47404"
         },
         "name": "Switchyard Brewing Company",
         "phone": "+18122878295",
         "price": "$",
         "rating": 4.5,
         "review_count": 58,
         "transactions": [],
         "url": "https://www.yelp.com/biz/switchyard-brewing-company-bloomington?adjust_creative=K6e1l42fOS0spB9kinfKMw&utm_campaign=yelp_api_v3&utm_medium=api_v3_business_search&utm_source=K6e1l42fOS0spB9kinfKMw"
        },
        {
         "alias": "nicks-english-hut-bloomington",
         "categories": [
          {
           "alias": "sportsbars",
           "title": "Sports Bars"
          },
          {
           "alias": "pubs",
           "title": "Pubs"
          },
          {
           "alias": "tradamerican",
           "title": "American (Traditional)"
          }
         ],
         "coordinates": {
          "latitude": 39.166837,
          "longitude": -86.528729
         },
         "display_phone": "(812) 332-4040",
         "distance": 832.6830407682468,
         "id": "G7fvost8OQPb7itqipdV9g",
         "image_url": "https://s3-media1.fl.yelpcdn.com/bphoto/GDIsz8npd9ZBd_Fgfgz7UA/o.jpg",
         "is_closed": false,
         "location": {
          "address1": "423 E Kirkwood Ave",
          "address2": "",
          "address3": "",
          "city": "Bloomington",
          "country": "US",
          "display_address": [
           "423 E Kirkwood Ave",
           "Bloomington, IN 47408"
          ],
          "state": "IN",
          "zip_code": "47408"
         },
         "name": "Nick's English Hut",
         "phone": "+18123324040",
         "price": "$$",
         "rating": 4,
         "review_count": 298,
         "transactions": [
          "delivery"
         ],
         "url": "https://www.yelp.com/biz/nicks-english-hut-bloomington?adjust_creative=K6e1l42fOS0spB9kinfKMw&utm_campaign=yelp_api_v3&utm_medium=api_v3_business_search&utm_source=K6e1l42fOS0spB9kinfKMw"
        },
        {
         "alias": "serendipity-martini-bar-bloomington-2",
         "categories": [
          {
           "alias": "cocktailbars",
           "title": "Cocktail Bars"
          }
         ],
         "coordinates": {
          "latitude": 39.1653861999512,
          "longitude": -86.5345764160156
         },
         "display_phone": "(314) 520-1285",
         "distance": 564.5734804775637,
         "id": "Am8Q8nDOCkebwvwHzOy_cQ",
         "image_url": "https://s3-media4.fl.yelpcdn.com/bphoto/eyi5OqYec_zLaI0DRBKbGA/o.jpg",
         "is_closed": false,
         "location": {
          "address1": "201 S College Ave",
          "address2": "",
          "address3": "",
          "city": "Bloomington",
          "country": "US",
          "display_address": [
           "201 S College Ave",
           "Bloomington, IN 47404"
          ],
          "state": "IN",
          "zip_code": "47404"
         },
         "name": "Serendipity Martini Bar",
         "phone": "+13145201285",
         "price": "$$",
         "rating": 3.5,
         "review_count": 17,
         "transactions": [
          "delivery"
         ],
         "url": "https://www.yelp.com/biz/serendipity-martini-bar-bloomington-2?adjust_creative=K6e1l42fOS0spB9kinfKMw&utm_campaign=yelp_api_v3&utm_medium=api_v3_business_search&utm_source=K6e1l42fOS0spB9kinfKMw"
        },
        {
         "alias": "the-alley-bloomington",
         "categories": [
          {
           "alias": "bars",
           "title": "Bars"
          }
         ],
         "coordinates": {
          "latitude": 39.1667519,
          "longitude": -86.5354385
         },
         "display_phone": "(812) 336-2216",
         "distance": 726.9396448431876,
         "id": "7bfOqXl5afGC6Ck76kb-Fg",
         "image_url": "https://s3-media1.fl.yelpcdn.com/bphoto/tgcg48ZraTWy5csqUIT6rQ/o.jpg",
         "is_closed": false,
         "location": {
          "address1": "210 W Kirkwood Ave",
          "address2": "",
          "address3": "",
          "city": "Bloomington",
          "country": "US",
          "display_address": [
           "210 W Kirkwood Ave",
           "Bloomington, IN 47404"
          ],
          "state": "IN",
          "zip_code": "47404"
         },
         "name": "The Alley",
         "phone": "+18123362216",
         "price": "$",
         "rating": 4,
         "review_count": 21,
         "transactions": [],
         "url": "https://www.yelp.com/biz/the-alley-bloomington?adjust_creative=K6e1l42fOS0spB9kinfKMw&utm_campaign=yelp_api_v3&utm_medium=api_v3_business_search&utm_source=K6e1l42fOS0spB9kinfKMw"
        },
        {
         "alias": "video-saloon-bloomington-2",
         "categories": [
          {
           "alias": "divebars",
           "title": "Dive Bars"
          },
          {
           "alias": "poolhalls",
           "title": "Pool Halls"
          }
         ],
         "coordinates": {
          "latitude": 39.16835,
          "longitude": -86.53397
         },
         "display_phone": "(812) 333-0064",
         "distance": 891.4727256428533,
         "id": "PmN6mlbhPcnAIQvfGTBiqA",
         "image_url": "https://s3-media2.fl.yelpcdn.com/bphoto/tZ1jkVswJaGNfBDh-cOYjg/o.jpg",
         "is_closed": false,
         "location": {
          "address1": "105 W 7th St",
          "address2": "",
          "address3": "",
          "city": "Bloomington",
          "country": "US",
          "display_address": [
           "105 W 7th St",
           "Bloomington, IN 47404"
          ],
          "state": "IN",
          "zip_code": "47404"
         },
         "name": "Video Saloon",
         "phone": "+18123330064",
         "price": "$",
         "rating": 4,
         "review_count": 59,
         "transactions": [],
         "url": "https://www.yelp.com/biz/video-saloon-bloomington-2?adjust_creative=K6e1l42fOS0spB9kinfKMw&utm_campaign=yelp_api_v3&utm_medium=api_v3_business_search&utm_source=K6e1l42fOS0spB9kinfKMw"
        },
        {
         "alias": "the-bishop-bloomington",
         "categories": [
          {
           "alias": "bars",
           "title": "Bars"
          },
          {
           "alias": "musicvenues",
           "title": "Music Venues"
          }
         ],
         "coordinates": {
          "latitude": 39.165988,
          "longitude": -86.5334751
         },
         "display_phone": "",
         "distance": 600.0129205806467,
         "id": "7gPfyec-PzuUVwZ0hhPpDw",
         "image_url": "https://s3-media4.fl.yelpcdn.com/bphoto/wQt5V2uXP77Ad9yXVNrUtg/o.jpg",
         "is_closed": false,
         "location": {
          "address1": "123 S Walnut St",
          "address2": "",
          "address3": "",
          "city": "Bloomington",
          "country": "US",
          "display_address": [
           "123 S Walnut St",
           "Bloomington, IN 47404"
          ],
          "state": "IN",
          "zip_code": "47404"
         },
         "name": "The Bishop",
         "phone": "",
         "price": "$",
         "rating": 3,
         "review_count": 31,
         "transactions": [],
         "url": "https://www.yelp.com/biz/the-bishop-bloomington?adjust_creative=K6e1l42fOS0spB9kinfKMw&utm_campaign=yelp_api_v3&utm_medium=api_v3_business_search&utm_source=K6e1l42fOS0spB9kinfKMw"
        },
        {
         "alias": "bluebird-nightclub-bloomington",
         "categories": [
          {
           "alias": "musicvenues",
           "title": "Music Venues"
          }
         ],
         "coordinates": {
          "latitude": 39.1681671142578,
          "longitude": -86.5332183837891
         },
         "display_phone": "(812) 336-3984",
         "distance": 865.3856471096143,
         "id": "vYB3oC4UisM5iSyFuYErVw",
         "image_url": "https://s3-media1.fl.yelpcdn.com/bphoto/17NQWwfYiP47ak4WVXc7DA/o.jpg",
         "is_closed": false,
         "location": {
          "address1": "216 N Walnut",
          "address2": "",
          "address3": "",
          "city": "Bloomington",
          "country": "US",
          "display_address": [
           "216 N Walnut",
           "Bloomington, IN 47401"
          ],
          "state": "IN",
          "zip_code": "47401"
         },
         "name": "Bluebird Nightclub",
         "phone": "+18123363984",
         "price": "$",
         "rating": 3.5,
         "review_count": 62,
         "transactions": [],
         "url": "https://www.yelp.com/biz/bluebird-nightclub-bloomington?adjust_creative=K6e1l42fOS0spB9kinfKMw&utm_campaign=yelp_api_v3&utm_medium=api_v3_business_search&utm_source=K6e1l42fOS0spB9kinfKMw"
        },
        {
         "alias": "kilroys-sports-bar-bloomington",
         "categories": [
          {
           "alias": "sportsbars",
           "title": "Sports Bars"
          },
          {
           "alias": "danceclubs",
           "title": "Dance Clubs"
          },
          {
           "alias": "musicvenues",
           "title": "Music Venues"
          }
         ],
         "coordinates": {
          "latitude": 39.1692583995036,
          "longitude": -86.5338170025045
         },
         "display_phone": "(812) 333-6006",
         "distance": 988.453068562939,
         "id": "Q07fv46TriTicD8mOPULJA",
         "image_url": "https://s3-media1.fl.yelpcdn.com/bphoto/vLs3JM2HEk8D2xHTIO6Vog/o.jpg",
         "is_closed": false,
         "location": {
          "address1": "319 N Walnut St",
          "address2": "",
          "address3": "",
          "city": "Bloomington",
          "country": "US",
          "display_address": [
           "319 N Walnut St",
           "Bloomington, IN 47404"
          ],
          "state": "IN",
          "zip_code": "47404"
         },
         "name": "Kilroy's Sports Bar",
         "phone": "+18123336006",
         "price": "$",
         "rating": 2.5,
         "review_count": 43,
         "transactions": [
          "pickup",
          "delivery"
         ],
         "url": "https://www.yelp.com/biz/kilroys-sports-bar-bloomington?adjust_creative=K6e1l42fOS0spB9kinfKMw&utm_campaign=yelp_api_v3&utm_medium=api_v3_business_search&utm_source=K6e1l42fOS0spB9kinfKMw"
        },
        {
         "alias": "the-irish-lion-restaurant-and-pub-bloomington",
         "categories": [
          {
           "alias": "irish",
           "title": "Irish"
          },
          {
           "alias": "pubs",
           "title": "Pubs"
          },
          {
           "alias": "tradamerican",
           "title": "American (Traditional)"
          }
         ],
         "coordinates": {
          "latitude": 39.1668816,
          "longitude": -86.5355606
         },
         "display_phone": "(812) 336-9076",
         "distance": 742.789589080918,
         "id": "R3hzIIXXF6-2xj2uZSirWQ",
         "image_url": "https://s3-media4.fl.yelpcdn.com/bphoto/3FZlb5372Da6GZBn6WrlRQ/o.jpg",
         "is_closed": false,
         "location": {
          "address1": "212 W Kirkwood Ave",
          "address2": "",
          "address3": "",
          "city": "Bloomington",
          "country": "US",
          "display_address": [
           "212 W Kirkwood Ave",
           "Bloomington, IN 47404"
          ],
          "state": "IN",
          "zip_code": "47404"
         },
         "name": "The Irish Lion Restaurant & Pub",
         "phone": "+18123369076",
         "price": "$$",
         "rating": 4,
         "review_count": 313,
         "transactions": [
          "delivery"
         ],
         "url": "https://www.yelp.com/biz/the-irish-lion-restaurant-and-pub-bloomington?adjust_creative=K6e1l42fOS0spB9kinfKMw&utm_campaign=yelp_api_v3&utm_medium=api_v3_business_search&utm_source=K6e1l42fOS0spB9kinfKMw"
        },
        {
         "alias": "yogi-s-bar-and-grill-bloomington",
         "categories": [
          {
           "alias": "breakfast_brunch",
           "title": "Breakfast & Brunch"
          },
          {
           "alias": "tradamerican",
           "title": "American (Traditional)"
          },
          {
           "alias": "cocktailbars",
           "title": "Cocktail Bars"
          }
         ],
         "coordinates": {
          "latitude": 39.168876,
          "longitude": -86.533247
         },
         "display_phone": "(812) 822-3591",
         "distance": 945.3245275394447,
         "id": "uJfi0RHU8BGF9gTU8o5P7w",
         "image_url": "https://s3-media4.fl.yelpcdn.com/bphoto/a954Xuwr7-TyrIopbmaLlQ/o.jpg",
         "is_closed": false,
         "location": {
          "address1": "302 N Walnut St",
          "address2": null,
          "address3": "",
          "city": "Bloomington",
          "country": "US",
          "display_address": [
           "302 N Walnut St",
           "Bloomington, IN 47404"
          ],
          "state": "IN",
          "zip_code": "47404"
         },
         "name": "Yogi’s Bar & Grill",
         "phone": "+18128223591",
         "price": "$$",
         "rating": 3.5,
         "review_count": 34,
         "transactions": [
          "delivery"
         ],
         "url": "https://www.yelp.com/biz/yogi-s-bar-and-grill-bloomington?adjust_creative=K6e1l42fOS0spB9kinfKMw&utm_campaign=yelp_api_v3&utm_medium=api_v3_business_search&utm_source=K6e1l42fOS0spB9kinfKMw"
        },
        {
         "alias": "smokeworks-bloomington-2",
         "categories": [
          {
           "alias": "bbq",
           "title": "Barbeque"
          },
          {
           "alias": "whiskeybars",
           "title": "Whiskey Bars"
          }
         ],
         "coordinates": {
          "latitude": 39.16724,
          "longitude": -86.53518
         },
         "display_phone": "(812) 287-8190",
         "distance": 782.6046152642218,
         "id": "9Gj8gqnhpljufPsnmUscOQ",
         "image_url": "https://s3-media1.fl.yelpcdn.com/bphoto/QsY1clfuYRz9SJ_waqLSCQ/o.jpg",
         "is_closed": false,
         "location": {
          "address1": "121 N College Ave",
          "address2": "",
          "address3": null,
          "city": "Bloomington",
          "country": "US",
          "display_address": [
           "121 N College Ave",
           "Bloomington, IN 47404"
          ],
          "state": "IN",
          "zip_code": "47404"
         },
         "name": "SmokeWorks",
         "phone": "+18122878190",
         "price": "$$",
         "rating": 4,
         "review_count": 120,
         "transactions": [
          "delivery"
         ],
         "url": "https://www.yelp.com/biz/smokeworks-bloomington-2?adjust_creative=K6e1l42fOS0spB9kinfKMw&utm_campaign=yelp_api_v3&utm_medium=api_v3_business_search&utm_source=K6e1l42fOS0spB9kinfKMw"
        },
        {
         "alias": "crazy-horse-bloomington",
         "categories": [
          {
           "alias": "pubs",
           "title": "Pubs"
          },
          {
           "alias": "newamerican",
           "title": "American (New)"
          },
          {
           "alias": "chicken_wings",
           "title": "Chicken Wings"
          }
         ],
         "coordinates": {
          "latitude": 39.1667349,
          "longitude": -86.535335
         },
         "display_phone": "(812) 336-8877",
         "distance": 743.8269247979306,
         "id": "M3LA4UbjQWsGaqrU09NXxw",
         "image_url": "https://s3-media2.fl.yelpcdn.com/bphoto/1jEPAaGNY1TrOdduYokz1Q/o.jpg",
         "is_closed": false,
         "location": {
          "address1": "214 W Kirkwood Ave",
          "address2": "",
          "address3": "",
          "city": "Bloomington",
          "country": "US",
          "display_address": [
           "214 W Kirkwood Ave",
           "Bloomington, IN 47404"
          ],
          "state": "IN",
          "zip_code": "47404"
         },
         "name": "Crazy Horse",
         "phone": "+18123368877",
         "price": "$$",
         "rating": 3,
         "review_count": 122,
         "transactions": [
          "pickup",
          "delivery"
         ],
         "url": "https://www.yelp.com/biz/crazy-horse-bloomington?adjust_creative=K6e1l42fOS0spB9kinfKMw&utm_campaign=yelp_api_v3&utm_medium=api_v3_business_search&utm_source=K6e1l42fOS0spB9kinfKMw"
        },
        {
         "alias": "the-sinkhole-bloomington",
         "categories": [
          {
           "alias": "beerbar",
           "title": "Beer Bar"
          }
         ],
         "coordinates": {
          "latitude": 39.137347,
          "longitude": -86.526402
         },
         "display_phone": "(812) 612-2274",
         "distance": 2634.2763651254204,
         "id": "zGA7lI-pKXLjqK9LzYqRhA",
         "image_url": "https://s3-media3.fl.yelpcdn.com/bphoto/TZHHLz6Jre7TzSlMOfg_eg/o.jpg",
         "is_closed": false,
         "location": {
          "address1": "313 E Winslow Rd",
          "address2": "",
          "address3": null,
          "city": "Bloomington",
          "country": "US",
          "display_address": [
           "313 E Winslow Rd",
           "Bloomington, IN 47401"
          ],
          "state": "IN",
          "zip_code": "47401"
         },
         "name": "The Sinkhole",
         "phone": "+18126122274",
         "rating": 4,
         "review_count": 1,
         "transactions": [],
         "url": "https://www.yelp.com/biz/the-sinkhole-bloomington?adjust_creative=K6e1l42fOS0spB9kinfKMw&utm_campaign=yelp_api_v3&utm_medium=api_v3_business_search&utm_source=K6e1l42fOS0spB9kinfKMw"
        }
       ],
       "region": {
        "center": {
         "latitude": 39.16037061,
         "longitude": -86.5336
        }
       },
       "total": 54
      },
      "text/plain": [
       "<IPython.core.display.JSON object>"
      ]
     },
     "execution_count": 23,
     "metadata": {
      "application/json": {
       "expanded": false,
       "root": "root"
      }
     },
     "output_type": "execute_result"
    }
   ],
   "source": [
    "JSON(req_jsoned)"
   ]
  },
  {
   "cell_type": "code",
   "execution_count": 69,
   "metadata": {},
   "outputs": [],
   "source": [
    "def get_venues(locstring):    \n",
    "    #URL request\n",
    "    \n",
    "    url = 'https://api.foursquare.com/v2/venues/search'\n",
    "    params = dict(\n",
    "    client_id='QSPKXLAWDU4ULH1G044BFW4ETF31K0PQ4RYUV5VV3W1YYIOW',\n",
    "    client_secret='T0DSRMUKYZXB4NLODWYUITVSQYGMXKRPQXG0J04B3CXKREGR',\n",
    "    v='20180323',\n",
    "    ll=locstring,\n",
    "    query='bar,restaurant',\n",
    "    radius = 5000,\n",
    "    limit=50\n",
    "    )\n",
    "    \n",
    "    try:\n",
    "        resp = re.get(url=url, params=params)\n",
    "        resp_json = json.loads(resp.text)\n",
    "        \n",
    "    except Exception as e:\n",
    "        print(e)\n",
    "        \n",
    "    return resp_json['response']['venues']"
   ]
  },
  {
   "cell_type": "code",
   "execution_count": 71,
   "metadata": {},
   "outputs": [],
   "source": [
    "js = get_venues('39.16037061,-86.5336')"
   ]
  },
  {
   "cell_type": "code",
   "execution_count": 72,
   "metadata": {},
   "outputs": [
    {
     "data": {
      "application/json": [
       {
        "beenHere": {
         "count": 0,
         "lastCheckinExpiredAt": 0,
         "marked": false,
         "unconfirmedCount": 0
        },
        "categories": [
         {
          "icon": {
           "prefix": "https://ss3.4sqi.net/img/categories_v2/food/thai_",
           "suffix": ".png"
          },
          "id": "4bf58dd8d48988d149941735",
          "name": "Thai Restaurant",
          "pluralName": "Thai Restaurants",
          "primary": true,
          "shortName": "Thai"
         }
        ],
        "contact": {},
        "delivery": {
         "id": "2100167",
         "provider": {
          "icon": {
           "name": "/delivery_provider_grubhub_20180129.png",
           "prefix": "https://fastly.4sqi.net/img/general/cap/",
           "sizes": [
            40,
            50
           ]
          },
          "name": "grubhub"
         },
         "url": "https://www.grubhub.com/restaurant/happy-thai-restaurant-519-s-walnut-st-bloomington/2100167?affiliate=1131&utm_source=foursquare-affiliate-network&utm_medium=affiliate&utm_campaign=1131&utm_content=2100167"
        },
        "hasPerk": false,
        "hereNow": {
         "count": 0,
         "groups": [],
         "summary": "Nobody here"
        },
        "id": "5e8fe51b8655b4000873b42e",
        "location": {
         "address": "519 S Walnut St",
         "cc": "US",
         "city": "Bloomington",
         "country": "United States",
         "distance": 23,
         "formattedAddress": [
          "519 S Walnut St",
          "Bloomington, IN 47401",
          "United States"
         ],
         "labeledLatLngs": [
          {
           "label": "display",
           "lat": 39.160348,
           "lng": -86.533324
          }
         ],
         "lat": 39.160348,
         "lng": -86.533324,
         "postalCode": "47401",
         "state": "IN"
        },
        "name": "Happy Thai Restaurant",
        "referralId": "v-1600976721",
        "stats": {
         "checkinsCount": 0,
         "tipCount": 0,
         "usersCount": 0,
         "visitsCount": 0
        },
        "venueChains": [],
        "verified": false
       },
       {
        "beenHere": {
         "count": 0,
         "lastCheckinExpiredAt": 0,
         "marked": false,
         "unconfirmedCount": 0
        },
        "categories": [
         {
          "icon": {
           "prefix": "https://ss3.4sqi.net/img/categories_v2/nightlife/pub_",
           "suffix": ".png"
          },
          "id": "4bf58dd8d48988d116941735",
          "name": "Bar",
          "pluralName": "Bars",
          "primary": true,
          "shortName": "Bar"
         }
        ],
        "contact": {},
        "hasPerk": false,
        "hereNow": {
         "count": 0,
         "groups": [],
         "summary": "Nobody here"
        },
        "id": "4aea47d8f964a520bbba21e3",
        "location": {
         "address": "502 E Kirkwood Ave",
         "cc": "US",
         "city": "Bloomington",
         "country": "United States",
         "distance": 829,
         "formattedAddress": [
          "502 E Kirkwood Ave",
          "Bloomington, IN 47408",
          "United States"
         ],
         "labeledLatLngs": [
          {
           "label": "display",
           "lat": 39.16647162279348,
           "lng": -86.52808720706821
          },
          {
           "label": "entrance",
           "lat": 39.166417,
           "lng": -86.528033
          }
         ],
         "lat": 39.16647162279348,
         "lng": -86.52808720706821,
         "postalCode": "47408",
         "state": "IN"
        },
        "name": "Kilroy's Bar & Grill",
        "referralId": "v-1600976721",
        "stats": {
         "checkinsCount": 0,
         "tipCount": 0,
         "usersCount": 0,
         "visitsCount": 0
        },
        "venueChains": [],
        "venuePage": {
         "id": "54966015"
        },
        "verified": true
       },
       {
        "beenHere": {
         "count": 0,
         "lastCheckinExpiredAt": 0,
         "marked": false,
         "unconfirmedCount": 0
        },
        "categories": [
         {
          "icon": {
           "prefix": "https://ss3.4sqi.net/img/categories_v2/food/mediterranean_",
           "suffix": ".png"
          },
          "id": "4bf58dd8d48988d1c0941735",
          "name": "Mediterranean Restaurant",
          "pluralName": "Mediterranean Restaurants",
          "primary": true,
          "shortName": "Mediterranean"
         }
        ],
        "contact": {},
        "hasPerk": false,
        "hereNow": {
         "count": 0,
         "groups": [],
         "summary": "Nobody here"
        },
        "id": "5009696be4b057fd1a8fe85d",
        "location": {
         "address": "403 N Walnut",
         "cc": "US",
         "city": "Bloomington",
         "country": "United States",
         "distance": 1035,
         "formattedAddress": [
          "403 N Walnut",
          "Bloomington, IN 47404",
          "United States"
         ],
         "labeledLatLngs": [
          {
           "label": "display",
           "lat": 39.169674538591025,
           "lng": -86.53384566260682
          },
          {
           "label": "entrance",
           "lat": 39.169761,
           "lng": -86.533931
          }
         ],
         "lat": 39.169674538591025,
         "lng": -86.53384566260682,
         "postalCode": "47404",
         "state": "IN"
        },
        "name": "Topos 403 Restaurant",
        "referralId": "v-1600976721",
        "stats": {
         "checkinsCount": 0,
         "tipCount": 0,
         "usersCount": 0,
         "visitsCount": 0
        },
        "venueChains": [],
        "verified": false
       },
       {
        "beenHere": {
         "count": 0,
         "lastCheckinExpiredAt": 0,
         "marked": false,
         "unconfirmedCount": 0
        },
        "categories": [
         {
          "icon": {
           "prefix": "https://ss3.4sqi.net/img/categories_v2/food/brewery_",
           "suffix": ".png"
          },
          "id": "50327c8591d4c4b30a586d5d",
          "name": "Brewery",
          "pluralName": "Breweries",
          "primary": true,
          "shortName": "Brewery"
         }
        ],
        "contact": {},
        "delivery": {
         "id": "884865",
         "provider": {
          "icon": {
           "name": "/delivery_provider_grubhub_20180129.png",
           "prefix": "https://fastly.4sqi.net/img/general/cap/",
           "sizes": [
            40,
            50
           ]
          },
          "name": "grubhub"
         },
         "url": "https://www.grubhub.com/restaurant/bjs-restaurant--brewhouse-411-s-college-mall-rd-bloomington/884865?affiliate=1131&utm_source=foursquare-affiliate-network&utm_medium=affiliate&utm_campaign=1131&utm_content=884865"
        },
        "hasPerk": false,
        "hereNow": {
         "count": 2,
         "groups": [
          {
           "count": 2,
           "items": [],
           "name": "Other people here",
           "type": "others"
          }
         ],
         "summary": "2 people are here"
        },
        "id": "59383acc6fa81f0e7a5d3084",
        "location": {
         "address": "411 S College Mall Rd",
         "cc": "US",
         "city": "Bloomington",
         "country": "United States",
         "distance": 3116,
         "formattedAddress": [
          "411 S College Mall Rd",
          "Bloomington, IN 47403",
          "United States"
         ],
         "labeledLatLngs": [
          {
           "label": "display",
           "lat": 39.16267961,
           "lng": -86.49761574
          }
         ],
         "lat": 39.16267961,
         "lng": -86.49761574,
         "postalCode": "47403",
         "state": "IN"
        },
        "name": "BJ's Restaurant & Brewhouse",
        "referralId": "v-1600976721",
        "stats": {
         "checkinsCount": 0,
         "tipCount": 0,
         "usersCount": 0,
         "visitsCount": 0
        },
        "venueChains": [],
        "venuePage": {
         "id": "563893818"
        },
        "verified": true
       },
       {
        "beenHere": {
         "count": 0,
         "lastCheckinExpiredAt": 0,
         "marked": false,
         "unconfirmedCount": 0
        },
        "categories": [
         {
          "icon": {
           "prefix": "https://ss3.4sqi.net/img/categories_v2/food/mexican_",
           "suffix": ".png"
          },
          "id": "4bf58dd8d48988d1c1941735",
          "name": "Mexican Restaurant",
          "pluralName": "Mexican Restaurants",
          "primary": true,
          "shortName": "Mexican"
         }
        ],
        "contact": {},
        "hasPerk": false,
        "hereNow": {
         "count": 0,
         "groups": [],
         "summary": "Nobody here"
        },
        "id": "550aebd5498ed0b860e2185b",
        "location": {
         "address": "601 N College Ave Ste 2",
         "cc": "US",
         "city": "Bloomington",
         "country": "United States",
         "crossStreet": "Tenth St.",
         "distance": 1301,
         "formattedAddress": [
          "601 N College Ave Ste 2 (Tenth St.)",
          "Bloomington, IN 47404",
          "United States"
         ],
         "labeledLatLngs": [
          {
           "label": "display",
           "lat": 39.17201632193902,
           "lng": -86.53498849760457
          }
         ],
         "lat": 39.17201632193902,
         "lng": -86.53498849760457,
         "postalCode": "47404",
         "state": "IN"
        },
        "name": "The 3 Amigos Restaurant",
        "referralId": "v-1600976721",
        "stats": {
         "checkinsCount": 0,
         "tipCount": 0,
         "usersCount": 0,
         "visitsCount": 0
        },
        "venueChains": [],
        "verified": false
       },
       {
        "beenHere": {
         "count": 0,
         "lastCheckinExpiredAt": 0,
         "marked": false,
         "unconfirmedCount": 0
        },
        "categories": [
         {
          "icon": {
           "prefix": "https://ss3.4sqi.net/img/categories_v2/food/japanese_",
           "suffix": ".png"
          },
          "id": "4bf58dd8d48988d111941735",
          "name": "Japanese Restaurant",
          "pluralName": "Japanese Restaurants",
          "primary": true,
          "shortName": "Japanese"
         }
        ],
        "contact": {},
        "delivery": {
         "id": "2267851",
         "provider": {
          "icon": {
           "name": "/delivery_provider_grubhub_20180129.png",
           "prefix": "https://fastly.4sqi.net/img/general/cap/",
           "sizes": [
            40,
            50
           ]
          },
          "name": "grubhub"
         },
         "url": "https://www.grubhub.com/restaurant/ami-japanese-restaurant-1500-east-3rd-street-bloomington/2267851?affiliate=1131&utm_source=foursquare-affiliate-network&utm_medium=affiliate&utm_campaign=1131&utm_content=2267851"
        },
        "hasPerk": false,
        "hereNow": {
         "count": 0,
         "groups": [],
         "summary": "Nobody here"
        },
        "id": "4b858694f964a520696331e3",
        "location": {
         "address": "1500 E 3rd St",
         "cc": "US",
         "city": "Bloomington",
         "country": "United States",
         "crossStreet": "S Swain Ave",
         "distance": 1652,
         "formattedAddress": [
          "1500 E 3rd St (S Swain Ave)",
          "Bloomington, IN 47401",
          "United States"
         ],
         "labeledLatLngs": [
          {
           "label": "display",
           "lat": 39.16421289872306,
           "lng": -86.51510169066373
          }
         ],
         "lat": 39.16421289872306,
         "lng": -86.51510169066373,
         "postalCode": "47401",
         "state": "IN"
        },
        "name": "Restaurant Ami",
        "referralId": "v-1600976721",
        "stats": {
         "checkinsCount": 0,
         "tipCount": 0,
         "usersCount": 0,
         "visitsCount": 0
        },
        "venueChains": [],
        "verified": false
       },
       {
        "beenHere": {
         "count": 0,
         "lastCheckinExpiredAt": 0,
         "marked": false,
         "unconfirmedCount": 0
        },
        "categories": [
         {
          "icon": {
           "prefix": "https://ss3.4sqi.net/img/categories_v2/nightlife/pub_",
           "suffix": ".png"
          },
          "id": "4bf58dd8d48988d116941735",
          "name": "Bar",
          "pluralName": "Bars",
          "primary": true,
          "shortName": "Bar"
         }
        ],
        "contact": {},
        "delivery": {
         "id": "2147342",
         "provider": {
          "icon": {
           "name": "/delivery_provider_grubhub_20180129.png",
           "prefix": "https://fastly.4sqi.net/img/general/cap/",
           "sizes": [
            40,
            50
           ]
          },
          "name": "grubhub"
         },
         "url": "https://www.grubhub.com/restaurant/brothers-bar-and-grill-215-north-walnut-street-bloomington/2147342?affiliate=1131&utm_source=foursquare-affiliate-network&utm_medium=affiliate&utm_campaign=1131&utm_content=2147342"
        },
        "hasPerk": false,
        "hereNow": {
         "count": 1,
         "groups": [
          {
           "count": 1,
           "items": [],
           "name": "Other people here",
           "type": "others"
          }
         ],
         "summary": "One other person is here"
        },
        "id": "4b074185f964a520ccfa22e3",
        "location": {
         "address": "215 N Walnut St",
         "cc": "US",
         "city": "Bloomington",
         "country": "United States",
         "crossStreet": "at W 7th St",
         "distance": 877,
         "formattedAddress": [
          "215 N Walnut St (at W 7th St)",
          "Bloomington, IN 47404",
          "United States"
         ],
         "labeledLatLngs": [
          {
           "label": "display",
           "lat": 39.16824984162702,
           "lng": -86.53380116596085
          }
         ],
         "lat": 39.16824984162702,
         "lng": -86.53380116596085,
         "postalCode": "47404",
         "state": "IN"
        },
        "name": "Brothers Bar & Grill",
        "referralId": "v-1600976721",
        "stats": {
         "checkinsCount": 0,
         "tipCount": 0,
         "usersCount": 0,
         "visitsCount": 0
        },
        "venueChains": [],
        "verified": true
       },
       {
        "beenHere": {
         "count": 0,
         "lastCheckinExpiredAt": 0,
         "marked": false,
         "unconfirmedCount": 0
        },
        "categories": [
         {
          "icon": {
           "prefix": "https://ss3.4sqi.net/img/categories_v2/food/mexican_",
           "suffix": ".png"
          },
          "id": "4bf58dd8d48988d1c1941735",
          "name": "Mexican Restaurant",
          "pluralName": "Mexican Restaurants",
          "primary": true,
          "shortName": "Mexican"
         }
        ],
        "contact": {},
        "delivery": {
         "id": "545949",
         "provider": {
          "icon": {
           "name": "/delivery_provider_grubhub_20180129.png",
           "prefix": "https://fastly.4sqi.net/img/general/cap/",
           "sizes": [
            40,
            50
           ]
          },
          "name": "grubhub"
         },
         "url": "https://www.grubhub.com/restaurant/juannitas-620-w-kirkwood-ave-bloomington/545949?affiliate=1131&utm_source=foursquare-affiliate-network&utm_medium=affiliate&utm_campaign=1131&utm_content=545949"
        },
        "hasPerk": false,
        "hereNow": {
         "count": 0,
         "groups": [],
         "summary": "Nobody here"
        },
        "id": "52081256498e7bbf5307f901",
        "location": {
         "address": "620 W Kirkwood Ave",
         "cc": "US",
         "city": "Bloomington",
         "country": "United States",
         "crossStreet": "Fairview",
         "distance": 944,
         "formattedAddress": [
          "620 W Kirkwood Ave (Fairview)",
          "Bloomington, IN 47404",
          "United States"
         ],
         "labeledLatLngs": [
          {
           "label": "entrance",
           "lat": 39.166728,
           "lng": -86.540678
          },
          {
           "label": "display",
           "lat": 39.166835,
           "lng": -86.540684
          }
         ],
         "lat": 39.166835,
         "lng": -86.540684,
         "postalCode": "47404",
         "state": "IN"
        },
        "name": "Juannita's Restaurant",
        "referralId": "v-1600976721",
        "stats": {
         "checkinsCount": 0,
         "tipCount": 0,
         "usersCount": 0,
         "visitsCount": 0
        },
        "venueChains": [],
        "venuePage": {
         "id": "130648806"
        },
        "verified": true
       },
       {
        "beenHere": {
         "count": 0,
         "lastCheckinExpiredAt": 0,
         "marked": false,
         "unconfirmedCount": 0
        },
        "categories": [
         {
          "icon": {
           "prefix": "https://ss3.4sqi.net/img/categories_v2/nightlife/pub_",
           "suffix": ".png"
          },
          "id": "4bf58dd8d48988d116941735",
          "name": "Bar",
          "pluralName": "Bars",
          "primary": true,
          "shortName": "Bar"
         }
        ],
        "contact": {},
        "hasPerk": false,
        "hereNow": {
         "count": 0,
         "groups": [],
         "summary": "Nobody here"
        },
        "id": "4b54ccc0f964a52007cd27e3",
        "location": {
         "address": "245 N College Ave",
         "cc": "US",
         "city": "Bloomington",
         "country": "United States",
         "distance": 888,
         "formattedAddress": [
          "245 N College Ave",
          "Bloomington, IN 47404",
          "United States"
         ],
         "labeledLatLngs": [
          {
           "label": "display",
           "lat": 39.168271059024775,
           "lng": -86.53508216142654
          },
          {
           "label": "entrance",
           "lat": 39.168282,
           "lng": -86.535009
          }
         ],
         "lat": 39.168271059024775,
         "lng": -86.53508216142654,
         "postalCode": "47404",
         "state": "IN"
        },
        "name": "Coaches Bar & Grill Bloomington",
        "referralId": "v-1600976721",
        "stats": {
         "checkinsCount": 0,
         "tipCount": 0,
         "usersCount": 0,
         "visitsCount": 0
        },
        "venueChains": [],
        "verified": true
       },
       {
        "beenHere": {
         "count": 0,
         "lastCheckinExpiredAt": 0,
         "marked": false,
         "unconfirmedCount": 0
        },
        "categories": [
         {
          "icon": {
           "prefix": "https://ss3.4sqi.net/img/categories_v2/food/asian_",
           "suffix": ".png"
          },
          "id": "56aa371be4b08b9a8d573568",
          "name": "Burmese Restaurant",
          "pluralName": "Burmese Restaurants",
          "primary": true,
          "shortName": "Burmese"
         }
        ],
        "contact": {},
        "delivery": {
         "id": "2268162",
         "provider": {
          "icon": {
           "name": "/delivery_provider_grubhub_20180129.png",
           "prefix": "https://fastly.4sqi.net/img/general/cap/",
           "sizes": [
            40,
            50
           ]
          },
          "name": "grubhub"
         },
         "url": "https://www.grubhub.com/restaurant/burma-garden-restaurant-413-east-4th-street-bloomington/2268162?affiliate=1131&utm_source=foursquare-affiliate-network&utm_medium=affiliate&utm_campaign=1131&utm_content=2268162"
        },
        "hasPerk": false,
        "hereNow": {
         "count": 0,
         "groups": [],
         "summary": "Nobody here"
        },
        "id": "590bc0c475cb8c63b2d689b1",
        "location": {
         "cc": "US",
         "city": "Bloomington",
         "country": "United States",
         "distance": 693,
         "formattedAddress": [
          "Bloomington, IN 47408",
          "United States"
         ],
         "labeledLatLngs": [
          {
           "label": "display",
           "lat": 39.165596,
           "lng": -86.529217
          }
         ],
         "lat": 39.165596,
         "lng": -86.529217,
         "postalCode": "47408",
         "state": "IN"
        },
        "name": "Burma Garden Restaurant",
        "referralId": "v-1600976721",
        "stats": {
         "checkinsCount": 0,
         "tipCount": 0,
         "usersCount": 0,
         "visitsCount": 0
        },
        "venueChains": [],
        "verified": false
       },
       {
        "beenHere": {
         "count": 0,
         "lastCheckinExpiredAt": 0,
         "marked": false,
         "unconfirmedCount": 0
        },
        "categories": [
         {
          "icon": {
           "prefix": "https://ss3.4sqi.net/img/categories_v2/food/asian_",
           "suffix": ".png"
          },
          "id": "4bf58dd8d48988d142941735",
          "name": "Asian Restaurant",
          "pluralName": "Asian Restaurants",
          "primary": true,
          "shortName": "Asian"
         }
        ],
        "contact": {},
        "hasPerk": false,
        "hereNow": {
         "count": 0,
         "groups": [],
         "summary": "Nobody here"
        },
        "id": "5020420ee4b0586c5d321036",
        "location": {
         "address": "404 E 4th St",
         "cc": "US",
         "city": "Bloomington",
         "country": "United States",
         "distance": 672,
         "formattedAddress": [
          "404 E 4th St",
          "Bloomington, IN 47408",
          "United States"
         ],
         "labeledLatLngs": [
          {
           "label": "display",
           "lat": 39.1655077690779,
           "lng": -86.529490613057
          }
         ],
         "lat": 39.1655077690779,
         "lng": -86.529490613057,
         "postalCode": "47408",
         "state": "IN"
        },
        "name": "DO Restaurant",
        "referralId": "v-1600976721",
        "stats": {
         "checkinsCount": 0,
         "tipCount": 0,
         "usersCount": 0,
         "visitsCount": 0
        },
        "venueChains": [],
        "verified": false
       },
       {
        "beenHere": {
         "count": 0,
         "lastCheckinExpiredAt": 0,
         "marked": false,
         "unconfirmedCount": 0
        },
        "categories": [
         {
          "icon": {
           "prefix": "https://ss3.4sqi.net/img/categories_v2/food/korean_",
           "suffix": ".png"
          },
          "id": "4bf58dd8d48988d113941735",
          "name": "Korean Restaurant",
          "pluralName": "Korean Restaurants",
          "primary": true,
          "shortName": "Korean"
         }
        ],
        "contact": {},
        "hasPerk": false,
        "hereNow": {
         "count": 0,
         "groups": [],
         "summary": "Nobody here"
        },
        "id": "4b685953f964a52022732be3",
        "location": {
         "address": "1402 N Walnut St",
         "cc": "US",
         "city": "Bloomington",
         "country": "United States",
         "distance": 2100,
         "formattedAddress": [
          "1402 N Walnut St",
          "Bloomington, IN 47404",
          "United States"
         ],
         "labeledLatLngs": [
          {
           "label": "display",
           "lat": 39.179234,
           "lng": -86.53313100000001
          }
         ],
         "lat": 39.179234,
         "lng": -86.53313100000001,
         "postalCode": "47404",
         "state": "IN"
        },
        "name": "Shins Family Restaurant",
        "referralId": "v-1600976721",
        "stats": {
         "checkinsCount": 0,
         "tipCount": 0,
         "usersCount": 0,
         "visitsCount": 0
        },
        "venueChains": [],
        "verified": false
       },
       {
        "beenHere": {
         "count": 0,
         "lastCheckinExpiredAt": 0,
         "marked": false,
         "unconfirmedCount": 0
        },
        "categories": [
         {
          "icon": {
           "prefix": "https://ss3.4sqi.net/img/categories_v2/food/asian_",
           "suffix": ".png"
          },
          "id": "4bf58dd8d48988d142941735",
          "name": "Asian Restaurant",
          "pluralName": "Asian Restaurants",
          "primary": true,
          "shortName": "Asian"
         }
        ],
        "contact": {},
        "hasPerk": false,
        "hereNow": {
         "count": 0,
         "groups": [],
         "summary": "Nobody here"
        },
        "id": "4b9fa5e6f964a520863137e3",
        "location": {
         "address": "413 E 4th St",
         "cc": "US",
         "city": "Bloomington",
         "country": "United States",
         "distance": 701,
         "formattedAddress": [
          "413 E 4th St",
          "Bloomington, IN 47408",
          "United States"
         ],
         "labeledLatLngs": [
          {
           "label": "display",
           "lat": 39.16563080499187,
           "lng": -86.52912252281735
          }
         ],
         "lat": 39.16563080499187,
         "lng": -86.52912252281735,
         "postalCode": "47408",
         "state": "IN"
        },
        "name": "Mandalay Restaurant",
        "referralId": "v-1600976721",
        "stats": {
         "checkinsCount": 0,
         "tipCount": 0,
         "usersCount": 0,
         "visitsCount": 0
        },
        "venueChains": [],
        "verified": false
       },
       {
        "beenHere": {
         "count": 0,
         "lastCheckinExpiredAt": 0,
         "marked": false,
         "unconfirmedCount": 0
        },
        "categories": [
         {
          "icon": {
           "prefix": "https://ss3.4sqi.net/img/categories_v2/food/vegetarian_",
           "suffix": ".png"
          },
          "id": "4bf58dd8d48988d1d3941735",
          "name": "Vegetarian / Vegan Restaurant",
          "pluralName": "Vegetarian / Vegan Restaurants",
          "primary": true,
          "shortName": "Vegetarian / Vegan"
         }
        ],
        "contact": {},
        "hasPerk": false,
        "hereNow": {
         "count": 1,
         "groups": [
          {
           "count": 1,
           "items": [],
           "name": "Other people here",
           "type": "others"
          }
         ],
         "summary": "One other person is here"
        },
        "id": "4d72da9fff6ba35d58fc748a",
        "location": {
         "address": "118 W 6th St",
         "cc": "US",
         "city": "Bloomington",
         "country": "United States",
         "distance": 820,
         "formattedAddress": [
          "118 W 6th St",
          "Bloomington, IN 47404",
          "United States"
         ],
         "labeledLatLngs": [
          {
           "label": "display",
           "lat": 39.16769146419687,
           "lng": -86.53468766793083
          },
          {
           "label": "entrance",
           "lat": 39.167685,
           "lng": -86.534667
          }
         ],
         "lat": 39.16769146419687,
         "lng": -86.53468766793083,
         "postalCode": "47404",
         "state": "IN"
        },
        "name": "The Owlery",
        "referralId": "v-1600976721",
        "stats": {
         "checkinsCount": 0,
         "tipCount": 0,
         "usersCount": 0,
         "visitsCount": 0
        },
        "venueChains": [],
        "verified": false
       },
       {
        "beenHere": {
         "count": 0,
         "lastCheckinExpiredAt": 0,
         "marked": false,
         "unconfirmedCount": 0
        },
        "categories": [
         {
          "icon": {
           "prefix": "https://ss3.4sqi.net/img/categories_v2/arts_entertainment/musicvenue_",
           "suffix": ".png"
          },
          "id": "4bf58dd8d48988d1e5931735",
          "name": "Music Venue",
          "pluralName": "Music Venues",
          "primary": true,
          "shortName": "Music Venue"
         }
        ],
        "contact": {},
        "hasPerk": false,
        "hereNow": {
         "count": 0,
         "groups": [],
         "summary": "Nobody here"
        },
        "id": "5a0fe55ab6b04b6e8f6561d7",
        "location": {
         "cc": "US",
         "city": "Bloomington",
         "country": "United States",
         "distance": 559,
         "formattedAddress": [
          "Bloomington, IN",
          "United States"
         ],
         "labeledLatLngs": [
          {
           "label": "display",
           "lat": 39.165297,
           "lng": -86.5348814
          }
         ],
         "lat": 39.165297,
         "lng": -86.5348814,
         "state": "IN"
        },
        "name": "Blockhouse Bar",
        "referralId": "v-1600976721",
        "stats": {
         "checkinsCount": 0,
         "tipCount": 0,
         "usersCount": 0,
         "visitsCount": 0
        },
        "venueChains": [],
        "verified": false
       },
       {
        "beenHere": {
         "count": 0,
         "lastCheckinExpiredAt": 0,
         "marked": false,
         "unconfirmedCount": 0
        },
        "categories": [
         {
          "icon": {
           "prefix": "https://ss3.4sqi.net/img/categories_v2/building/gym_",
           "suffix": ".png"
          },
          "id": "4bf58dd8d48988d176941735",
          "name": "Gym",
          "pluralName": "Gyms",
          "primary": true,
          "shortName": "Gym"
         }
        ],
        "contact": {},
        "hasPerk": false,
        "hereNow": {
         "count": 0,
         "groups": [],
         "summary": "Nobody here"
        },
        "id": "515f544ce4b024b5c113ba12",
        "location": {
         "address": "418 S College Ave",
         "cc": "US",
         "city": "Bloomington",
         "country": "United States",
         "distance": 262,
         "formattedAddress": [
          "418 S College Ave",
          "Bloomington, IN 47403",
          "United States"
         ],
         "labeledLatLngs": [
          {
           "label": "display",
           "lat": 39.1622314453125,
           "lng": -86.53546142578125
          }
         ],
         "lat": 39.1622314453125,
         "lng": -86.53546142578125,
         "postalCode": "47403",
         "state": "IN"
        },
        "name": "B-Town Barbell",
        "referralId": "v-1600976721",
        "stats": {
         "checkinsCount": 0,
         "tipCount": 0,
         "usersCount": 0,
         "visitsCount": 0
        },
        "venueChains": [],
        "verified": false
       },
       {
        "beenHere": {
         "count": 0,
         "lastCheckinExpiredAt": 0,
         "marked": false,
         "unconfirmedCount": 0
        },
        "categories": [
         {
          "icon": {
           "prefix": "https://ss3.4sqi.net/img/categories_v2/food/italian_",
           "suffix": ".png"
          },
          "id": "4bf58dd8d48988d110941735",
          "name": "Italian Restaurant",
          "pluralName": "Italian Restaurants",
          "primary": true,
          "shortName": "Italian"
         }
        ],
        "contact": {},
        "hasPerk": false,
        "hereNow": {
         "count": 0,
         "groups": [],
         "summary": "Nobody here"
        },
        "id": "4f32aa1019836c91c7edbf66",
        "location": {
         "address": "114 S Indiana Ave",
         "cc": "US",
         "city": "Bloomington",
         "country": "United States",
         "distance": 836,
         "formattedAddress": [
          "114 S Indiana Ave",
          "Bloomington, IN 47408",
          "United States"
         ],
         "labeledLatLngs": [
          {
           "label": "display",
           "lat": 39.16596221923828,
           "lng": -86.52713012695312
          }
         ],
         "lat": 39.16596221923828,
         "lng": -86.52713012695312,
         "postalCode": "47408",
         "state": "IN"
        },
        "name": "Sir-Ghettis Restaurant",
        "referralId": "v-1600976721",
        "stats": {
         "checkinsCount": 0,
         "tipCount": 0,
         "usersCount": 0,
         "visitsCount": 0
        },
        "venueChains": [],
        "verified": false
       },
       {
        "beenHere": {
         "count": 0,
         "lastCheckinExpiredAt": 0,
         "marked": false,
         "unconfirmedCount": 0
        },
        "categories": [],
        "contact": {},
        "hasPerk": false,
        "hereNow": {
         "count": 0,
         "groups": [],
         "summary": "Nobody here"
        },
        "id": "5a13508e89e49073e39a0420",
        "location": {
         "address": "615 North Walnut Street",
         "cc": "US",
         "city": "Bloomington",
         "country": "United States",
         "distance": 1321,
         "formattedAddress": [
          "615 North Walnut Street",
          "Bloomington, IN 47404",
          "United States"
         ],
         "labeledLatLngs": [
          {
           "label": "display",
           "lat": 39.17224044,
           "lng": -86.53384149
          }
         ],
         "lat": 39.17224044,
         "lng": -86.53384149,
         "postalCode": "47404",
         "state": "IN"
        },
        "name": "Barco Family Dentistry",
        "referralId": "v-1600976721",
        "stats": {
         "checkinsCount": 0,
         "tipCount": 0,
         "usersCount": 0,
         "visitsCount": 0
        },
        "venueChains": [],
        "venuePage": {
         "id": "562558819"
        },
        "verified": true
       },
       {
        "beenHere": {
         "count": 0,
         "lastCheckinExpiredAt": 0,
         "marked": false,
         "unconfirmedCount": 0
        },
        "categories": [
         {
          "icon": {
           "prefix": "https://ss3.4sqi.net/img/categories_v2/shops/salon_barber_",
           "suffix": ".png"
          },
          "id": "4bf58dd8d48988d110951735",
          "name": "Salon / Barbershop",
          "pluralName": "Salons / Barbershops",
          "primary": true,
          "shortName": "Salon / Barbershop"
         }
        ],
        "contact": {},
        "hasPerk": false,
        "hereNow": {
         "count": 0,
         "groups": [],
         "summary": "Nobody here"
        },
        "id": "4e723ca2b61cc811d3ff232b",
        "location": {
         "cc": "US",
         "city": "Bloomington",
         "country": "United States",
         "distance": 705,
         "formattedAddress": [
          "Bloomington, IN",
          "United States"
         ],
         "labeledLatLngs": [
          {
           "label": "display",
           "lat": 39.165494,
           "lng": -86.538418
          }
         ],
         "lat": 39.165494,
         "lng": -86.538418,
         "state": "IN"
        },
        "name": "Barber Shop",
        "referralId": "v-1600976721",
        "stats": {
         "checkinsCount": 0,
         "tipCount": 0,
         "usersCount": 0,
         "visitsCount": 0
        },
        "venueChains": [],
        "verified": false
       },
       {
        "beenHere": {
         "count": 0,
         "lastCheckinExpiredAt": 0,
         "marked": false,
         "unconfirmedCount": 0
        },
        "categories": [
         {
          "icon": {
           "prefix": "https://ss3.4sqi.net/img/categories_v2/food/default_",
           "suffix": ".png"
          },
          "id": "4d4b7105d754a06374d81259",
          "name": "Food",
          "pluralName": "Food",
          "primary": true,
          "shortName": "Food"
         }
        ],
        "contact": {},
        "hasPerk": false,
        "hereNow": {
         "count": 0,
         "groups": [],
         "summary": "Nobody here"
        },
        "id": "4f32350019836c91c7c0b5eb",
        "location": {
         "address": "620 W Kirkwood Ave",
         "cc": "US",
         "city": "Bloomington",
         "country": "United States",
         "distance": 953,
         "formattedAddress": [
          "620 W Kirkwood Ave",
          "Bloomington, IN 47404",
          "United States"
         ],
         "labeledLatLngs": [
          {
           "label": "display",
           "lat": 39.16691970825195,
           "lng": -86.54072570800781
          }
         ],
         "lat": 39.16691970825195,
         "lng": -86.54072570800781,
         "postalCode": "47404",
         "state": "IN"
        },
        "name": "Restaurant Tallent",
        "referralId": "v-1600976721",
        "stats": {
         "checkinsCount": 0,
         "tipCount": 0,
         "usersCount": 0,
         "visitsCount": 0
        },
        "venueChains": [],
        "verified": false
       },
       {
        "beenHere": {
         "count": 0,
         "lastCheckinExpiredAt": 0,
         "marked": false,
         "unconfirmedCount": 0
        },
        "categories": [
         {
          "icon": {
           "prefix": "https://ss3.4sqi.net/img/categories_v2/education/frathouse_",
           "suffix": ".png"
          },
          "id": "4bf58dd8d48988d1b0941735",
          "name": "Fraternity House",
          "pluralName": "Fraternity Houses",
          "primary": true,
          "shortName": "Frat House"
         }
        ],
        "contact": {},
        "hasPerk": false,
        "hereNow": {
         "count": 0,
         "groups": [],
         "summary": "Nobody here"
        },
        "id": "50770c8fe4b025e874ec574f",
        "location": {
         "address": "410 S Park Ave",
         "cc": "US",
         "city": "Bloomington",
         "country": "United States",
         "crossStreet": "Atwater",
         "distance": 854,
         "formattedAddress": [
          "410 S Park Ave (Atwater)",
          "Bloomington, IN 47401",
          "United States"
         ],
         "labeledLatLngs": [
          {
           "label": "display",
           "lat": 39.162774,
           "lng": -86.524194
          },
          {
           "label": "entrance",
           "lat": 39.162769,
           "lng": -86.524107
          }
         ],
         "lat": 39.162774,
         "lng": -86.524194,
         "postalCode": "47401",
         "state": "IN"
        },
        "name": "The Barn",
        "referralId": "v-1600976721",
        "stats": {
         "checkinsCount": 0,
         "tipCount": 0,
         "usersCount": 0,
         "visitsCount": 0
        },
        "venueChains": [],
        "verified": false
       },
       {
        "beenHere": {
         "count": 0,
         "lastCheckinExpiredAt": 0,
         "marked": false,
         "unconfirmedCount": 0
        },
        "categories": [
         {
          "icon": {
           "prefix": "https://ss3.4sqi.net/img/categories_v2/food/coffeeshop_",
           "suffix": ".png"
          },
          "id": "4bf58dd8d48988d1e0931735",
          "name": "Coffee Shop",
          "pluralName": "Coffee Shops",
          "primary": true,
          "shortName": "Coffee Shop"
         }
        ],
        "contact": {},
        "hasPerk": false,
        "hereNow": {
         "count": 0,
         "groups": [],
         "summary": "Nobody here"
        },
        "id": "4b9a5aabf964a5205fae35e3",
        "location": {
         "address": "1400 E 3rd St",
         "cc": "US",
         "city": "Bloomington",
         "country": "United States",
         "crossStreet": "S Jordan Avenue",
         "distance": 1546,
         "formattedAddress": [
          "1400 E 3rd St (S Jordan Avenue)",
          "Bloomington, IN 47401",
          "United States"
         ],
         "labeledLatLngs": [
          {
           "label": "display",
           "lat": 39.16392211424054,
           "lng": -86.5162774614388
          }
         ],
         "lat": 39.16392211424054,
         "lng": -86.5162774614388,
         "neighborhood": "Jordan Square",
         "postalCode": "47401",
         "state": "IN"
        },
        "name": "Soma Coffeehouse & Juice Bar",
        "referralId": "v-1600976721",
        "stats": {
         "checkinsCount": 0,
         "tipCount": 0,
         "usersCount": 0,
         "visitsCount": 0
        },
        "venueChains": [],
        "venuePage": {
         "id": "87457677"
        },
        "verified": true
       },
       {
        "beenHere": {
         "count": 0,
         "lastCheckinExpiredAt": 0,
         "marked": false,
         "unconfirmedCount": 0
        },
        "categories": [
         {
          "icon": {
           "prefix": "https://ss3.4sqi.net/img/categories_v2/food/asian_",
           "suffix": ".png"
          },
          "id": "4bf58dd8d48988d145941735",
          "name": "Chinese Restaurant",
          "pluralName": "Chinese Restaurants",
          "primary": true,
          "shortName": "Chinese"
         }
        ],
        "contact": {},
        "hasPerk": false,
        "hereNow": {
         "count": 0,
         "groups": [],
         "summary": "Nobody here"
        },
        "id": "4b90bf7bf964a520219633e3",
        "location": {
         "address": "216 S Indiana Ave",
         "cc": "US",
         "city": "Bloomington",
         "country": "United States",
         "distance": 760,
         "formattedAddress": [
          "216 S Indiana Ave",
          "Bloomington, IN 47408",
          "United States"
         ],
         "labeledLatLngs": [
          {
           "label": "display",
           "lat": 39.16484217080605,
           "lng": -86.52693405649123
          },
          {
           "label": "entrance",
           "lat": 39.164846,
           "lng": -86.527008
          }
         ],
         "lat": 39.16484217080605,
         "lng": -86.52693405649123,
         "postalCode": "47408",
         "state": "IN"
        },
        "name": "Chow Bar",
        "referralId": "v-1600976721",
        "stats": {
         "checkinsCount": 0,
         "tipCount": 0,
         "usersCount": 0,
         "visitsCount": 0
        },
        "venueChains": [],
        "verified": false
       },
       {
        "beenHere": {
         "count": 0,
         "lastCheckinExpiredAt": 0,
         "marked": false,
         "unconfirmedCount": 0
        },
        "categories": [
         {
          "icon": {
           "prefix": "https://ss3.4sqi.net/img/categories_v2/food/bbqalt_",
           "suffix": ".png"
          },
          "id": "4bf58dd8d48988d1df931735",
          "name": "BBQ Joint",
          "pluralName": "BBQ Joints",
          "primary": true,
          "shortName": "BBQ"
         }
        ],
        "contact": {},
        "hasPerk": false,
        "hereNow": {
         "count": 0,
         "groups": [],
         "summary": "Nobody here"
        },
        "id": "4b47b508f964a5204d3b26e3",
        "location": {
         "address": "2000 S Walnut St",
         "cc": "US",
         "city": "Bloomington",
         "country": "United States",
         "crossStreet": "btw Winslow & Hillside",
         "distance": 1882,
         "formattedAddress": [
          "2000 S Walnut St (btw Winslow & Hillside)",
          "Bloomington, IN 47401",
          "United States"
         ],
         "labeledLatLngs": [
          {
           "label": "display",
           "lat": 39.14350398845397,
           "lng": -86.532068624309
          },
          {
           "label": "entrance",
           "lat": 39.143487,
           "lng": -86.531987
          }
         ],
         "lat": 39.14350398845397,
         "lng": -86.532068624309,
         "postalCode": "47401",
         "state": "IN"
        },
        "name": "King Gyros Restaurant",
        "referralId": "v-1600976721",
        "stats": {
         "checkinsCount": 0,
         "tipCount": 0,
         "usersCount": 0,
         "visitsCount": 0
        },
        "venueChains": [],
        "verified": false
       },
       {
        "beenHere": {
         "count": 0,
         "lastCheckinExpiredAt": 0,
         "marked": false,
         "unconfirmedCount": 0
        },
        "categories": [
         {
          "icon": {
           "prefix": "https://ss3.4sqi.net/img/categories_v2/food/default_",
           "suffix": ".png"
          },
          "id": "4d4b7105d754a06374d81259",
          "name": "Food",
          "pluralName": "Food",
          "primary": true,
          "shortName": "Food"
         }
        ],
        "contact": {},
        "hasPerk": false,
        "hereNow": {
         "count": 0,
         "groups": [],
         "summary": "Nobody here"
        },
        "id": "4f324f5119836c91c7cb142d",
        "location": {
         "address": "1131 S College Mall Rd",
         "cc": "US",
         "city": "Bloomington",
         "country": "United States",
         "distance": 3255,
         "formattedAddress": [
          "1131 S College Mall Rd",
          "Bloomington, IN 47401",
          "United States"
         ],
         "labeledLatLngs": [
          {
           "label": "display",
           "lat": 39.154388427734375,
           "lng": -86.4966812133789
          }
         ],
         "lat": 39.154388427734375,
         "lng": -86.4966812133789,
         "postalCode": "47401",
         "state": "IN"
        },
        "name": "Truffles Restaurant Fifty-Six degrees Bar",
        "referralId": "v-1600976721",
        "stats": {
         "checkinsCount": 0,
         "tipCount": 0,
         "usersCount": 0,
         "visitsCount": 0
        },
        "venueChains": [],
        "verified": false
       },
       {
        "beenHere": {
         "count": 0,
         "lastCheckinExpiredAt": 0,
         "marked": false,
         "unconfirmedCount": 0
        },
        "categories": [
         {
          "icon": {
           "prefix": "https://ss3.4sqi.net/img/categories_v2/nightlife/sportsbar_",
           "suffix": ".png"
          },
          "id": "4bf58dd8d48988d11d941735",
          "name": "Sports Bar",
          "pluralName": "Sports Bars",
          "primary": true,
          "shortName": "Sports Bar"
         }
        ],
        "contact": {},
        "delivery": {
         "id": "1858214",
         "provider": {
          "icon": {
           "name": "/delivery_provider_grubhub_20180129.png",
           "prefix": "https://fastly.4sqi.net/img/general/cap/",
           "sizes": [
            40,
            50
           ]
          },
          "name": "grubhub"
         },
         "url": "https://www.grubhub.com/restaurant/yogis-bar--grill-302-north-walnut-street-bloomington/1858214?affiliate=1131&utm_source=foursquare-affiliate-network&utm_medium=affiliate&utm_campaign=1131&utm_content=1858214"
        },
        "hasPerk": false,
        "hereNow": {
         "count": 0,
         "groups": [],
         "summary": "Nobody here"
        },
        "id": "5dc5f6ec82b9e900078e9b6a",
        "location": {
         "address": "302 N Walnut St",
         "cc": "US",
         "city": "Bloomington",
         "country": "United States",
         "distance": 917,
         "formattedAddress": [
          "302 N Walnut St",
          "Bloomington, IN 47404",
          "United States"
         ],
         "labeledLatLngs": [
          {
           "label": "display",
           "lat": 39.16861,
           "lng": -86.533404
          },
          {
           "label": "entrance",
           "lat": 39.168952,
           "lng": -86.533441
          }
         ],
         "lat": 39.16861,
         "lng": -86.533404,
         "postalCode": "47404",
         "state": "IN"
        },
        "name": "Yogi’s Bar & Grill",
        "referralId": "v-1600976721",
        "stats": {
         "checkinsCount": 0,
         "tipCount": 0,
         "usersCount": 0,
         "visitsCount": 0
        },
        "venueChains": [],
        "verified": false
       },
       {
        "beenHere": {
         "count": 0,
         "lastCheckinExpiredAt": 0,
         "marked": false,
         "unconfirmedCount": 0
        },
        "categories": [
         {
          "icon": {
           "prefix": "https://ss3.4sqi.net/img/categories_v2/food/default_",
           "suffix": ".png"
          },
          "id": "4bf58dd8d48988d1c4941735",
          "name": "Restaurant",
          "pluralName": "Restaurants",
          "primary": true,
          "shortName": "Restaurant"
         }
        ],
        "contact": {},
        "delivery": {
         "id": "293995",
         "provider": {
          "icon": {
           "name": "/delivery_provider_grubhub_20180129.png",
           "prefix": "https://fastly.4sqi.net/img/general/cap/",
           "sizes": [
            40,
            50
           ]
          },
          "name": "grubhub"
         },
         "url": "https://www.grubhub.com/restaurant/little-tibet-415-e-4th-st-bloomington/293995?affiliate=1131&utm_source=foursquare-affiliate-network&utm_medium=affiliate&utm_campaign=1131&utm_content=293995"
        },
        "hasPerk": false,
        "hereNow": {
         "count": 0,
         "groups": [],
         "summary": "Nobody here"
        },
        "id": "4b6dcfacf964a5201f922ce3",
        "location": {
         "address": "415 E 4th St",
         "cc": "US",
         "city": "Bloomington",
         "country": "United States",
         "distance": 721,
         "formattedAddress": [
          "415 E 4th St",
          "Bloomington, IN 47408",
          "United States"
         ],
         "labeledLatLngs": [
          {
           "label": "display",
           "lat": 39.16568686611879,
           "lng": -86.52880924265267
          },
          {
           "label": "entrance",
           "lat": 39.165668,
           "lng": -86.528965
          }
         ],
         "lat": 39.16568686611879,
         "lng": -86.52880924265267,
         "postalCode": "47408",
         "state": "IN"
        },
        "name": "Anyetsang's Little Tibet",
        "referralId": "v-1600976721",
        "stats": {
         "checkinsCount": 0,
         "tipCount": 0,
         "usersCount": 0,
         "visitsCount": 0
        },
        "venueChains": [],
        "verified": false
       },
       {
        "beenHere": {
         "count": 0,
         "lastCheckinExpiredAt": 0,
         "marked": false,
         "unconfirmedCount": 0
        },
        "categories": [
         {
          "icon": {
           "prefix": "https://ss3.4sqi.net/img/categories_v2/shops/salon_barber_",
           "suffix": ".png"
          },
          "id": "4bf58dd8d48988d110951735",
          "name": "Salon / Barbershop",
          "pluralName": "Salons / Barbershops",
          "primary": true,
          "shortName": "Salon / Barbershop"
         }
        ],
        "contact": {},
        "hasPerk": false,
        "hereNow": {
         "count": 0,
         "groups": [],
         "summary": "Nobody here"
        },
        "id": "54465149498eb68f7c98937c",
        "location": {
         "cc": "US",
         "city": "Bloomington",
         "country": "United States",
         "distance": 388,
         "formattedAddress": [
          "Bloomington, IN",
          "United States"
         ],
         "labeledLatLngs": [
          {
           "label": "display",
           "lat": 39.157078000000006,
           "lng": -86.535104
          },
          {
           "label": "entrance",
           "lat": 39.157051,
           "lng": -86.534816
          }
         ],
         "lat": 39.157078000000006,
         "lng": -86.535104,
         "state": "IN"
        },
        "name": "Bill's Barber Shop",
        "referralId": "v-1600976721",
        "stats": {
         "checkinsCount": 0,
         "tipCount": 0,
         "usersCount": 0,
         "visitsCount": 0
        },
        "venueChains": [],
        "verified": false
       },
       {
        "beenHere": {
         "count": 0,
         "lastCheckinExpiredAt": 0,
         "marked": false,
         "unconfirmedCount": 0
        },
        "categories": [
         {
          "icon": {
           "prefix": "https://ss3.4sqi.net/img/categories_v2/food/diner_",
           "suffix": ".png"
          },
          "id": "4bf58dd8d48988d147941735",
          "name": "Diner",
          "pluralName": "Diners",
          "primary": true,
          "shortName": "Diner"
         }
        ],
        "contact": {},
        "hasPerk": false,
        "hereNow": {
         "count": 0,
         "groups": [],
         "summary": "Nobody here"
        },
        "id": "4b7acb00f964a5200e3d2fe3",
        "location": {
         "address": "4023 W 3rd St",
         "cc": "US",
         "city": "Bloomington",
         "country": "United States",
         "distance": 4385,
         "formattedAddress": [
          "4023 W 3rd St",
          "Bloomington, IN 47404",
          "United States"
         ],
         "labeledLatLngs": [
          {
           "label": "display",
           "lat": 39.164051865822465,
           "lng": -86.58419130159236
          },
          {
           "label": "entrance",
           "lat": 39.164192,
           "lng": -86.584047
          }
         ],
         "lat": 39.164051865822465,
         "lng": -86.58419130159236,
         "postalCode": "47404",
         "state": "IN"
        },
        "name": "Cloverleaf Family Restaurant",
        "referralId": "v-1600976721",
        "stats": {
         "checkinsCount": 0,
         "tipCount": 0,
         "usersCount": 0,
         "visitsCount": 0
        },
        "venueChains": [],
        "verified": false
       },
       {
        "beenHere": {
         "count": 0,
         "lastCheckinExpiredAt": 0,
         "marked": false,
         "unconfirmedCount": 0
        },
        "categories": [
         {
          "icon": {
           "prefix": "https://ss3.4sqi.net/img/categories_v2/building/apartment_",
           "suffix": ".png"
          },
          "id": "4d954b06a243a5684965b473",
          "name": "Residential Building (Apartment / Condo)",
          "pluralName": "Residential Buildings (Apartments / Condos)",
          "primary": true,
          "shortName": "Residential"
         }
        ],
        "contact": {},
        "hasPerk": false,
        "hereNow": {
         "count": 0,
         "groups": [],
         "summary": "Nobody here"
        },
        "id": "4e2c7a4ab61cd010838054e2",
        "location": {
         "cc": "US",
         "city": "Bloomington",
         "country": "United States",
         "distance": 1220,
         "formattedAddress": [
          "Bloomington, IN",
          "United States"
         ],
         "labeledLatLngs": [
          {
           "label": "display",
           "lat": 39.169549,
           "lng": -86.525858
          }
         ],
         "lat": 39.169549,
         "lng": -86.525858,
         "state": "IN"
        },
        "name": "Barbie Dollhouse",
        "referralId": "v-1600976721",
        "stats": {
         "checkinsCount": 0,
         "tipCount": 0,
         "usersCount": 0,
         "visitsCount": 0
        },
        "venueChains": [],
        "verified": false
       },
       {
        "beenHere": {
         "count": 0,
         "lastCheckinExpiredAt": 0,
         "marked": false,
         "unconfirmedCount": 0
        },
        "categories": [
         {
          "icon": {
           "prefix": "https://ss3.4sqi.net/img/categories_v2/food/winery_",
           "suffix": ".png"
          },
          "id": "4bf58dd8d48988d14b941735",
          "name": "Winery",
          "pluralName": "Wineries",
          "primary": true,
          "shortName": "Winery"
         }
        ],
        "contact": {},
        "hasPerk": false,
        "hereNow": {
         "count": 0,
         "groups": [],
         "summary": "Nobody here"
        },
        "id": "50cfde1ee4b0d7b945ab2502",
        "location": {
         "cc": "US",
         "city": "Bloomington",
         "country": "United States",
         "distance": 788,
         "formattedAddress": [
          "Bloomington, IN 47401",
          "United States"
         ],
         "labeledLatLngs": [
          {
           "label": "display",
           "lat": 39.153418,
           "lng": -86.531852
          }
         ],
         "lat": 39.153418,
         "lng": -86.531852,
         "postalCode": "47401",
         "state": "IN"
        },
        "name": "Wingspan Bar & Grille",
        "referralId": "v-1600976721",
        "stats": {
         "checkinsCount": 0,
         "tipCount": 0,
         "usersCount": 0,
         "visitsCount": 0
        },
        "venueChains": [],
        "verified": false
       },
       {
        "beenHere": {
         "count": 0,
         "lastCheckinExpiredAt": 0,
         "marked": false,
         "unconfirmedCount": 0
        },
        "categories": [
         {
          "icon": {
           "prefix": "https://ss3.4sqi.net/img/categories_v2/building/apartment_",
           "suffix": ".png"
          },
          "id": "4d954b06a243a5684965b473",
          "name": "Residential Building (Apartment / Condo)",
          "pluralName": "Residential Buildings (Apartments / Condos)",
          "primary": true,
          "shortName": "Residential"
         }
        ],
        "contact": {},
        "hasPerk": false,
        "hereNow": {
         "count": 0,
         "groups": [],
         "summary": "Nobody here"
        },
        "id": "50f4543ce4b09c9acb732c13",
        "location": {
         "cc": "US",
         "city": "Bloomington",
         "country": "United States",
         "distance": 1366,
         "formattedAddress": [
          "Bloomington, IN 47408",
          "United States"
         ],
         "labeledLatLngs": [
          {
           "label": "display",
           "lat": 39.172217,
           "lng": -86.52943
          }
         ],
         "lat": 39.172217,
         "lng": -86.52943,
         "postalCode": "47408",
         "state": "IN"
        },
        "name": "Barney's place",
        "referralId": "v-1600976721",
        "stats": {
         "checkinsCount": 0,
         "tipCount": 0,
         "usersCount": 0,
         "visitsCount": 0
        },
        "venueChains": [],
        "verified": false
       },
       {
        "beenHere": {
         "count": 0,
         "lastCheckinExpiredAt": 0,
         "marked": false,
         "unconfirmedCount": 0
        },
        "categories": [
         {
          "icon": {
           "prefix": "https://ss3.4sqi.net/img/categories_v2/food/middleeastern_",
           "suffix": ".png"
          },
          "id": "4bf58dd8d48988d115941735",
          "name": "Middle Eastern Restaurant",
          "pluralName": "Middle Eastern Restaurants",
          "primary": true,
          "shortName": "Middle Eastern"
         }
        ],
        "contact": {},
        "hasPerk": false,
        "hereNow": {
         "count": 0,
         "groups": [],
         "summary": "Nobody here"
        },
        "id": "4c0066c8ad46c9b6a0798f66",
        "location": {
         "address": "100 W 6th St",
         "cc": "US",
         "city": "Bloomington",
         "country": "United States",
         "crossStreet": "at Walnut",
         "distance": 815,
         "formattedAddress": [
          "100 W 6th St (at Walnut)",
          "Bloomington, IN 47404",
          "United States"
         ],
         "labeledLatLngs": [
          {
           "label": "display",
           "lat": 39.16769732470794,
           "lng": -86.53370042441487
          },
          {
           "label": "entrance",
           "lat": 39.16766,
           "lng": -86.533746
          }
         ],
         "lat": 39.16769732470794,
         "lng": -86.53370042441487,
         "postalCode": "47404",
         "state": "IN"
        },
        "name": "Samira",
        "referralId": "v-1600976721",
        "stats": {
         "checkinsCount": 0,
         "tipCount": 0,
         "usersCount": 0,
         "visitsCount": 0
        },
        "venueChains": [],
        "verified": false
       },
       {
        "beenHere": {
         "count": 0,
         "lastCheckinExpiredAt": 0,
         "marked": false,
         "unconfirmedCount": 0
        },
        "categories": [
         {
          "icon": {
           "prefix": "https://ss3.4sqi.net/img/categories_v2/food/japanese_",
           "suffix": ".png"
          },
          "id": "4bf58dd8d48988d111941735",
          "name": "Japanese Restaurant",
          "pluralName": "Japanese Restaurants",
          "primary": true,
          "shortName": "Japanese"
         }
        ],
        "contact": {},
        "hasPerk": false,
        "hereNow": {
         "count": 0,
         "groups": [],
         "summary": "Nobody here"
        },
        "id": "4b32735cf964a5200d0c25e3",
        "location": {
         "address": "430 E Kirkwood Ave",
         "cc": "US",
         "city": "Bloomington",
         "country": "United States",
         "distance": 811,
         "formattedAddress": [
          "430 E Kirkwood Ave",
          "Bloomington, IN 47408",
          "United States"
         ],
         "labeledLatLngs": [
          {
           "label": "display",
           "lat": 39.16652438153398,
           "lng": -86.52856124865572
          }
         ],
         "lat": 39.16652438153398,
         "lng": -86.52856124865572,
         "postalCode": "47408",
         "state": "IN"
        },
        "name": "Z & C Teriyaki And Sushi",
        "referralId": "v-1600976721",
        "stats": {
         "checkinsCount": 0,
         "tipCount": 0,
         "usersCount": 0,
         "visitsCount": 0
        },
        "venueChains": [],
        "verified": false
       },
       {
        "beenHere": {
         "count": 0,
         "lastCheckinExpiredAt": 0,
         "marked": false,
         "unconfirmedCount": 0
        },
        "categories": [
         {
          "icon": {
           "prefix": "https://ss3.4sqi.net/img/categories_v2/education/cafeteria_",
           "suffix": ".png"
          },
          "id": "4bf58dd8d48988d1a1941735",
          "name": "College Cafeteria",
          "pluralName": "College Cafeterias",
          "primary": true,
          "shortName": "Cafeteria"
         }
        ],
        "contact": {},
        "hasPerk": false,
        "hereNow": {
         "count": 0,
         "groups": [],
         "summary": "Nobody here"
        },
        "id": "523cc193498e4da111fc3b29",
        "location": {
         "address": "3rd Street",
         "cc": "US",
         "city": "Bloomington",
         "country": "United States",
         "crossStreet": "Rose Avenue",
         "distance": 1886,
         "formattedAddress": [
          "3rd Street (Rose Avenue)",
          "Bloomington, IN",
          "United States"
         ],
         "labeledLatLngs": [
          {
           "label": "display",
           "lat": 39.16511810182362,
           "lng": -86.51261714341695
          }
         ],
         "lat": 39.16511810182362,
         "lng": -86.51261714341695,
         "state": "IN"
        },
        "name": "The Restaurants at Woodland",
        "referralId": "v-1600976721",
        "stats": {
         "checkinsCount": 0,
         "tipCount": 0,
         "usersCount": 0,
         "visitsCount": 0
        },
        "venueChains": [],
        "verified": false
       },
       {
        "beenHere": {
         "count": 0,
         "lastCheckinExpiredAt": 0,
         "marked": false,
         "unconfirmedCount": 0
        },
        "categories": [
         {
          "icon": {
           "prefix": "https://ss3.4sqi.net/img/categories_v2/nightlife/pub_",
           "suffix": ".png"
          },
          "id": "4bf58dd8d48988d116941735",
          "name": "Bar",
          "pluralName": "Bars",
          "primary": true,
          "shortName": "Bar"
         }
        ],
        "contact": {},
        "hasPerk": false,
        "hereNow": {
         "count": 0,
         "groups": [],
         "summary": "Nobody here"
        },
        "id": "5f495b448e72256f3db2d45e",
        "location": {
         "cc": "US",
         "city": "Bloomington",
         "country": "United States",
         "distance": 3201,
         "formattedAddress": [
          "Bloomington, IN",
          "United States"
         ],
         "labeledLatLngs": [
          {
           "label": "display",
           "lat": 39.13650990250943,
           "lng": -86.55430018901825
          }
         ],
         "lat": 39.13650990250943,
         "lng": -86.55430018901825,
         "state": "IN"
        },
        "name": "The Bar Shack",
        "referralId": "v-1600976721",
        "stats": {
         "checkinsCount": 0,
         "tipCount": 0,
         "usersCount": 0,
         "visitsCount": 0
        },
        "venueChains": [],
        "verified": false
       },
       {
        "beenHere": {
         "count": 0,
         "lastCheckinExpiredAt": 0,
         "marked": false,
         "unconfirmedCount": 0
        },
        "categories": [
         {
          "icon": {
           "prefix": "https://ss3.4sqi.net/img/categories_v2/food/japanese_",
           "suffix": ".png"
          },
          "id": "4bf58dd8d48988d111941735",
          "name": "Japanese Restaurant",
          "pluralName": "Japanese Restaurants",
          "primary": true,
          "shortName": "Japanese"
         }
        ],
        "contact": {},
        "hasPerk": false,
        "hereNow": {
         "count": 0,
         "groups": [],
         "summary": "Nobody here"
        },
        "id": "4f44896519836ed00194bea6",
        "location": {
         "address": "1500 E 3rd St",
         "cc": "US",
         "city": "Bloomington",
         "country": "United States",
         "distance": 1646,
         "formattedAddress": [
          "1500 E 3rd St",
          "Bloomington, IN 47401",
          "United States"
         ],
         "labeledLatLngs": [
          {
           "label": "entrance",
           "lat": 39.164184,
           "lng": -86.515041
          },
          {
           "label": "display",
           "lat": 39.16396713256836,
           "lng": -86.51509094238281
          }
         ],
         "lat": 39.16396713256836,
         "lng": -86.51509094238281,
         "postalCode": "47401",
         "state": "IN"
        },
        "name": "Domo Japanese Restaurant",
        "referralId": "v-1600976721",
        "stats": {
         "checkinsCount": 0,
         "tipCount": 0,
         "usersCount": 0,
         "visitsCount": 0
        },
        "venueChains": [],
        "verified": false
       },
       {
        "beenHere": {
         "count": 0,
         "lastCheckinExpiredAt": 0,
         "marked": false,
         "unconfirmedCount": 0
        },
        "categories": [
         {
          "icon": {
           "prefix": "https://ss3.4sqi.net/img/categories_v2/education/lab_",
           "suffix": ".png"
          },
          "id": "4bf58dd8d48988d1a5941735",
          "name": "College Lab",
          "pluralName": "College Labs",
          "primary": true,
          "shortName": "Lab"
         }
        ],
        "contact": {},
        "hasPerk": false,
        "hereNow": {
         "count": 0,
         "groups": [],
         "summary": "Nobody here"
        },
        "id": "51a7f453498e780a71a4dced",
        "location": {
         "cc": "US",
         "city": "Bloomington",
         "country": "United States",
         "distance": 1371,
         "formattedAddress": [
          "Bloomington, IN",
          "United States"
         ],
         "labeledLatLngs": [
          {
           "label": "display",
           "lat": 39.16542744866218,
           "lng": -86.51911278453687
          }
         ],
         "lat": 39.16542744866218,
         "lng": -86.51911278453687,
         "state": "IN"
        },
        "name": "HH's Philosophizing Bar",
        "referralId": "v-1600976721",
        "stats": {
         "checkinsCount": 0,
         "tipCount": 0,
         "usersCount": 0,
         "visitsCount": 0
        },
        "venueChains": [],
        "verified": false
       },
       {
        "beenHere": {
         "count": 0,
         "lastCheckinExpiredAt": 0,
         "marked": false,
         "unconfirmedCount": 0
        },
        "categories": [
         {
          "icon": {
           "prefix": "https://ss3.4sqi.net/img/categories_v2/shops/fleamarket_",
           "suffix": ".png"
          },
          "id": "53e510b7498ebcb1801b55d4",
          "name": "Night Market",
          "pluralName": "Night Markets",
          "primary": true,
          "shortName": "Night Market"
         }
        ],
        "contact": {},
        "hasPerk": false,
        "hereNow": {
         "count": 0,
         "groups": [],
         "summary": "Nobody here"
        },
        "id": "5a5156e0d1a4026792d1e982",
        "location": {
         "address": "335 S College Ave",
         "cc": "US",
         "city": "Bloomington",
         "country": "United States",
         "distance": 348,
         "formattedAddress": [
          "335 S College Ave",
          "Bloomington, IN 47403",
          "United States"
         ],
         "labeledLatLngs": [
          {
           "label": "display",
           "lat": 39.163398,
           "lng": -86.534609
          }
         ],
         "lat": 39.163398,
         "lng": -86.534609,
         "postalCode": "47403",
         "state": "IN"
        },
        "name": "K&C’s Barleywine Bungalow on the B-Line",
        "referralId": "v-1600976721",
        "stats": {
         "checkinsCount": 0,
         "tipCount": 0,
         "usersCount": 0,
         "visitsCount": 0
        },
        "venueChains": [],
        "verified": false
       },
       {
        "beenHere": {
         "count": 0,
         "lastCheckinExpiredAt": 0,
         "marked": false,
         "unconfirmedCount": 0
        },
        "categories": [
         {
          "icon": {
           "prefix": "https://ss3.4sqi.net/img/categories_v2/shops/bookstore_",
           "suffix": ".png"
          },
          "id": "4bf58dd8d48988d114951735",
          "name": "Bookstore",
          "pluralName": "Bookstores",
          "primary": true,
          "shortName": "Bookstore"
         }
        ],
        "contact": {},
        "hasPerk": false,
        "hereNow": {
         "count": 0,
         "groups": [],
         "summary": "Nobody here"
        },
        "id": "513a18957e2793d197a90556",
        "location": {
         "cc": "US",
         "city": "Bloomington",
         "country": "United States",
         "distance": 2014,
         "formattedAddress": [
          "Bloomington, IN 47408",
          "United States"
         ],
         "labeledLatLngs": [
          {
           "label": "display",
           "lat": 39.17139684891762,
           "lng": -86.51509200538041
          }
         ],
         "lat": 39.17139684891762,
         "lng": -86.51509200538041,
         "postalCode": "47408",
         "state": "IN"
        },
        "name": "Barnes & Noble",
        "referralId": "v-1600976721",
        "stats": {
         "checkinsCount": 0,
         "tipCount": 0,
         "usersCount": 0,
         "visitsCount": 0
        },
        "venueChains": [],
        "verified": true
       },
       {
        "beenHere": {
         "count": 0,
         "lastCheckinExpiredAt": 0,
         "marked": false,
         "unconfirmedCount": 0
        },
        "categories": [
         {
          "icon": {
           "prefix": "https://ss3.4sqi.net/img/categories_v2/food/coffeeshop_",
           "suffix": ".png"
          },
          "id": "4bf58dd8d48988d1e0931735",
          "name": "Coffee Shop",
          "pluralName": "Coffee Shops",
          "primary": true,
          "shortName": "Coffee Shop"
         }
        ],
        "contact": {},
        "hasPerk": false,
        "hereNow": {
         "count": 0,
         "groups": [],
         "summary": "Nobody here"
        },
        "id": "5df56f3bf93ca90007ecaa4c",
        "location": {
         "address": "581 E Hillside Dr",
         "cc": "US",
         "city": "Bloomington",
         "country": "United States",
         "distance": 1194,
         "formattedAddress": [
          "581 E Hillside Dr",
          "Bloomington, IN 47401",
          "United States"
         ],
         "labeledLatLngs": [
          {
           "label": "display",
           "lat": 39.15079879760742,
           "lng": -86.52734375
          }
         ],
         "lat": 39.15079879760742,
         "lng": -86.52734375,
         "postalCode": "47401",
         "state": "IN"
        },
        "name": "Soma Coffeehouse & Juice Bar",
        "referralId": "v-1600976721",
        "stats": {
         "checkinsCount": 0,
         "tipCount": 0,
         "usersCount": 0,
         "visitsCount": 0
        },
        "venueChains": [],
        "verified": false
       },
       {
        "beenHere": {
         "count": 0,
         "lastCheckinExpiredAt": 0,
         "marked": false,
         "unconfirmedCount": 0
        },
        "categories": [
         {
          "icon": {
           "prefix": "https://ss3.4sqi.net/img/categories_v2/food/coffeeshop_",
           "suffix": ".png"
          },
          "id": "4bf58dd8d48988d1e0931735",
          "name": "Coffee Shop",
          "pluralName": "Coffee Shops",
          "primary": true,
          "shortName": "Coffee Shop"
         }
        ],
        "contact": {},
        "hasPerk": false,
        "hereNow": {
         "count": 0,
         "groups": [],
         "summary": "Nobody here"
        },
        "id": "58dfa25114f8f401b3bdfd5d",
        "location": {
         "address": "212 N Madison St",
         "cc": "US",
         "city": "Bloomington",
         "country": "United States",
         "distance": 907,
         "formattedAddress": [
          "212 N Madison St",
          "Bloomington, IN 47404",
          "United States"
         ],
         "labeledLatLngs": [
          {
           "label": "display",
           "lat": 39.168059,
           "lng": -86.53710500000001
          },
          {
           "label": "entrance",
           "lat": 39.168036,
           "lng": -86.537272
          }
         ],
         "lat": 39.168059,
         "lng": -86.53710500000001,
         "postalCode": "47404",
         "state": "IN"
        },
        "name": "Hopscotch Coffee - Espresso Bar",
        "referralId": "v-1600976721",
        "stats": {
         "checkinsCount": 0,
         "tipCount": 0,
         "usersCount": 0,
         "visitsCount": 0
        },
        "venueChains": [],
        "verified": false
       },
       {
        "beenHere": {
         "count": 0,
         "lastCheckinExpiredAt": 0,
         "marked": false,
         "unconfirmedCount": 0
        },
        "categories": [
         {
          "icon": {
           "prefix": "https://ss3.4sqi.net/img/categories_v2/shops/salon_barber_",
           "suffix": ".png"
          },
          "id": "4bf58dd8d48988d110951735",
          "name": "Salon / Barbershop",
          "pluralName": "Salons / Barbershops",
          "primary": true,
          "shortName": "Salon / Barbershop"
         }
        ],
        "contact": {},
        "hasPerk": false,
        "hereNow": {
         "count": 0,
         "groups": [],
         "summary": "Nobody here"
        },
        "id": "5a8e70d66bd36b4a16b54356",
        "location": {
         "address": "120 S College Ave",
         "cc": "US",
         "city": "Bloomington",
         "country": "United States",
         "distance": 634,
         "formattedAddress": [
          "120 S College Ave",
          "Bloomington, IN 47404",
          "United States"
         ],
         "labeledLatLngs": [
          {
           "label": "display",
           "lat": 39.165893,
           "lng": -86.53540500000001
          },
          {
           "label": "entrance",
           "lat": 39.165888,
           "lng": -86.53549
          }
         ],
         "lat": 39.165893,
         "lng": -86.53540500000001,
         "postalCode": "47404",
         "state": "IN"
        },
        "name": "Bent Barber Shop",
        "referralId": "v-1600976721",
        "stats": {
         "checkinsCount": 0,
         "tipCount": 0,
         "usersCount": 0,
         "visitsCount": 0
        },
        "venueChains": [],
        "venuePage": {
         "id": "583227007"
        },
        "verified": true
       },
       {
        "beenHere": {
         "count": 0,
         "lastCheckinExpiredAt": 0,
         "marked": false,
         "unconfirmedCount": 0
        },
        "categories": [
         {
          "icon": {
           "prefix": "https://ss3.4sqi.net/img/categories_v2/travel/hotel_",
           "suffix": ".png"
          },
          "id": "4bf58dd8d48988d1fa931735",
          "name": "Hotel",
          "pluralName": "Hotels",
          "primary": true,
          "shortName": "Hotel"
         }
        ],
        "contact": {},
        "hasPerk": false,
        "hereNow": {
         "count": 0,
         "groups": [],
         "summary": "Nobody here"
        },
        "id": "53376340498ec0c5b93566c9",
        "location": {
         "cc": "US",
         "city": "Bloomington",
         "country": "United States",
         "distance": 1131,
         "formattedAddress": [
          "Bloomington, IN",
          "United States"
         ],
         "labeledLatLngs": [
          {
           "label": "display",
           "lat": 39.170477,
           "lng": -86.534976
          }
         ],
         "lat": 39.170477,
         "lng": -86.534976,
         "state": "IN"
        },
        "name": "The Ave bar @Spring Hill Suites",
        "referralId": "v-1600976721",
        "stats": {
         "checkinsCount": 0,
         "tipCount": 0,
         "usersCount": 0,
         "visitsCount": 0
        },
        "venueChains": [],
        "verified": false
       },
       {
        "beenHere": {
         "count": 0,
         "lastCheckinExpiredAt": 0,
         "marked": false,
         "unconfirmedCount": 0
        },
        "categories": [
         {
          "icon": {
           "prefix": "https://ss3.4sqi.net/img/categories_v2/food/default_",
           "suffix": ".png"
          },
          "id": "4bf58dd8d48988d14e941735",
          "name": "American Restaurant",
          "pluralName": "American Restaurants",
          "primary": true,
          "shortName": "American"
         }
        ],
        "contact": {},
        "hasPerk": false,
        "hereNow": {
         "count": 0,
         "groups": [],
         "summary": "Nobody here"
        },
        "id": "4ae468b1f964a520669a21e3",
        "location": {
         "address": "108 E Kirkwood Ave",
         "cc": "US",
         "city": "Bloomington",
         "country": "United States",
         "crossStreet": "at Walnut",
         "distance": 679,
         "formattedAddress": [
          "108 E Kirkwood Ave (at Walnut)",
          "Bloomington, IN 47408",
          "United States"
         ],
         "labeledLatLngs": [
          {
           "label": "display",
           "lat": 39.16646510861486,
           "lng": -86.53309300569576
          },
          {
           "label": "entrance",
           "lat": 39.166461,
           "lng": -86.533078
          }
         ],
         "lat": 39.16646510861486,
         "lng": -86.53309300569576,
         "postalCode": "47408",
         "state": "IN"
        },
        "name": "Farm Bloomington",
        "referralId": "v-1600976721",
        "stats": {
         "checkinsCount": 0,
         "tipCount": 0,
         "usersCount": 0,
         "visitsCount": 0
        },
        "venueChains": [],
        "verified": false
       },
       {
        "beenHere": {
         "count": 0,
         "lastCheckinExpiredAt": 0,
         "marked": false,
         "unconfirmedCount": 0
        },
        "categories": [
         {
          "icon": {
           "prefix": "https://ss3.4sqi.net/img/categories_v2/travel/hotel_bar_",
           "suffix": ".png"
          },
          "id": "4bf58dd8d48988d1d5941735",
          "name": "Hotel Bar",
          "pluralName": "Hotel Bars",
          "primary": true,
          "shortName": "Hotel Bar"
         }
        ],
        "contact": {},
        "hasPerk": false,
        "hereNow": {
         "count": 0,
         "groups": [],
         "summary": "Nobody here"
        },
        "id": "5032cd8ce4b0478e593120c1",
        "location": {
         "cc": "US",
         "city": "Bloomington",
         "country": "United States",
         "distance": 2839,
         "formattedAddress": [
          "Bloomington, IN 47404",
          "United States"
         ],
         "labeledLatLngs": [
          {
           "label": "display",
           "lat": 39.185773865735655,
           "lng": -86.5365784336047
          }
         ],
         "lat": 39.185773865735655,
         "lng": -86.5365784336047,
         "postalCode": "47404",
         "state": "IN"
        },
        "name": "Bar at Holiday Inn",
        "referralId": "v-1600976721",
        "stats": {
         "checkinsCount": 0,
         "tipCount": 0,
         "usersCount": 0,
         "visitsCount": 0
        },
        "venueChains": [],
        "verified": false
       },
       {
        "beenHere": {
         "count": 0,
         "lastCheckinExpiredAt": 0,
         "marked": false,
         "unconfirmedCount": 0
        },
        "categories": [
         {
          "icon": {
           "prefix": "https://ss3.4sqi.net/img/categories_v2/food/default_",
           "suffix": ".png"
          },
          "id": "4bf58dd8d48988d14e941735",
          "name": "American Restaurant",
          "pluralName": "American Restaurants",
          "primary": true,
          "shortName": "American"
         }
        ],
        "contact": {},
        "hasPerk": false,
        "hereNow": {
         "count": 0,
         "groups": [],
         "summary": "Nobody here"
        },
        "id": "564f3a49498ee8c0f4ee1f56",
        "location": {
         "address": "325 E Winslow Road",
         "cc": "US",
         "city": "Bloomington",
         "country": "United States",
         "distance": 2681,
         "formattedAddress": [
          "325 E Winslow Road",
          "Bloomington, IN",
          "United States"
         ],
         "labeledLatLngs": [
          {
           "label": "display",
           "lat": 39.13700323250078,
           "lng": -86.5260804796961
          },
          {
           "label": "entrance",
           "lat": 39.137436,
           "lng": -86.52666
          }
         ],
         "lat": 39.13700323250078,
         "lng": -86.5260804796961,
         "state": "IN"
        },
        "name": "Cloverleaf Family Restaurant",
        "referralId": "v-1600976721",
        "stats": {
         "checkinsCount": 0,
         "tipCount": 0,
         "usersCount": 0,
         "visitsCount": 0
        },
        "venueChains": [],
        "verified": false
       },
       {
        "beenHere": {
         "count": 0,
         "lastCheckinExpiredAt": 0,
         "marked": false,
         "unconfirmedCount": 0
        },
        "categories": [
         {
          "icon": {
           "prefix": "https://ss3.4sqi.net/img/categories_v2/food/asian_",
           "suffix": ".png"
          },
          "id": "52af3b773cf9994f4e043c03",
          "name": "Szechuan Restaurant",
          "pluralName": "Szechuan Restaurants",
          "primary": true,
          "shortName": "Szechuan"
         }
        ],
        "contact": {},
        "hasPerk": false,
        "hereNow": {
         "count": 0,
         "groups": [],
         "summary": "Nobody here"
        },
        "id": "570055d9498ef2f96bf04598",
        "location": {
         "cc": "US",
         "city": "Bloomington",
         "country": "United States",
         "distance": 2094,
         "formattedAddress": [
          "Bloomington, IN",
          "United States"
         ],
         "labeledLatLngs": [
          {
           "label": "display",
           "lat": 39.179182,
           "lng": -86.533156
          }
         ],
         "lat": 39.179182,
         "lng": -86.533156,
         "state": "IN"
        },
        "name": "Red  Restaurant",
        "referralId": "v-1600976721",
        "stats": {
         "checkinsCount": 0,
         "tipCount": 0,
         "usersCount": 0,
         "visitsCount": 0
        },
        "venueChains": [],
        "verified": false
       },
       {
        "beenHere": {
         "count": 0,
         "lastCheckinExpiredAt": 0,
         "marked": false,
         "unconfirmedCount": 0
        },
        "categories": [
         {
          "icon": {
           "prefix": "https://ss3.4sqi.net/img/categories_v2/food/default_",
           "suffix": ".png"
          },
          "id": "4bf58dd8d48988d1c4941735",
          "name": "Restaurant",
          "pluralName": "Restaurants",
          "primary": true,
          "shortName": "Restaurant"
         }
        ],
        "contact": {},
        "hasPerk": false,
        "hereNow": {
         "count": 0,
         "groups": [],
         "summary": "Nobody here"
        },
        "id": "4ae3d332f964a5202f9921e3",
        "location": {
         "address": "212 W Kirkwood Ave",
         "cc": "US",
         "city": "Bloomington",
         "country": "United States",
         "distance": 715,
         "formattedAddress": [
          "212 W Kirkwood Ave",
          "Bloomington, IN 47404",
          "United States"
         ],
         "labeledLatLngs": [
          {
           "label": "display",
           "lat": 39.16664394428941,
           "lng": -86.53542013118208
          }
         ],
         "lat": 39.16664394428941,
         "lng": -86.53542013118208,
         "postalCode": "47404",
         "state": "IN"
        },
        "name": "The Irish Lion",
        "referralId": "v-1600976721",
        "stats": {
         "checkinsCount": 0,
         "tipCount": 0,
         "usersCount": 0,
         "visitsCount": 0
        },
        "venueChains": [],
        "venuePage": {
         "id": "33867329"
        },
        "verified": true
       },
       {
        "beenHere": {
         "count": 0,
         "lastCheckinExpiredAt": 0,
         "marked": false,
         "unconfirmedCount": 0
        },
        "categories": [
         {
          "icon": {
           "prefix": "https://ss3.4sqi.net/img/categories_v2/nightlife/cocktails_",
           "suffix": ".png"
          },
          "id": "4bf58dd8d48988d11e941735",
          "name": "Cocktail Bar",
          "pluralName": "Cocktail Bars",
          "primary": true,
          "shortName": "Cocktail"
         }
        ],
        "contact": {},
        "hasPerk": false,
        "hereNow": {
         "count": 0,
         "groups": [],
         "summary": "Nobody here"
        },
        "id": "4ff8aa2fe4b0734a7b4b3e23",
        "location": {
         "cc": "US",
         "city": "Bloomington",
         "country": "United States",
         "distance": 2490,
         "formattedAddress": [
          "Bloomington, IN 47408",
          "United States"
         ],
         "labeledLatLngs": [
          {
           "label": "display",
           "lat": 39.181871,
           "lng": -86.525607
          }
         ],
         "lat": 39.181871,
         "lng": -86.525607,
         "postalCode": "47408",
         "state": "IN"
        },
        "name": "Back Bar",
        "referralId": "v-1600976721",
        "stats": {
         "checkinsCount": 0,
         "tipCount": 0,
         "usersCount": 0,
         "visitsCount": 0
        },
        "venueChains": [],
        "verified": false
       }
      ],
      "text/plain": [
       "<IPython.core.display.JSON object>"
      ]
     },
     "execution_count": 72,
     "metadata": {
      "application/json": {
       "expanded": false,
       "root": "root"
      }
     },
     "output_type": "execute_result"
    }
   ],
   "source": [
    "JSON(js)"
   ]
  },
  {
   "cell_type": "code",
   "execution_count": null,
   "metadata": {},
   "outputs": [],
   "source": []
  }
 ],
 "metadata": {
  "kernelspec": {
   "display_name": "bootcamp",
   "language": "python",
   "name": "bootcamp"
  },
  "language_info": {
   "codemirror_mode": {
    "name": "ipython",
    "version": 3
   },
   "file_extension": ".py",
   "mimetype": "text/x-python",
   "name": "python",
   "nbconvert_exporter": "python",
   "pygments_lexer": "ipython3",
   "version": "3.8.5"
  }
 },
 "nbformat": 4,
 "nbformat_minor": 4
}
