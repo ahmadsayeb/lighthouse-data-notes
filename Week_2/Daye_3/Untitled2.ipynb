{
 "cells": [
  {
   "cell_type": "code",
   "execution_count": 1,
   "metadata": {},
   "outputs": [
    {
     "data": {
      "text/plain": [
       "<Response [200]>"
      ]
     },
     "execution_count": 1,
     "metadata": {},
     "output_type": "execute_result"
    }
   ],
   "source": [
    "import pandas as pd\n",
    "import requests\n",
    "\n",
    "\n",
    "url = \"https://www.worldcoinindex.com/\"\n",
    "crypto_url = requests.get(url)\n",
    "crypto_url"
   ]
  },
  {
   "cell_type": "code",
   "execution_count": 2,
   "metadata": {},
   "outputs": [],
   "source": [
    "body = crypto_url.text"
   ]
  },
  {
   "cell_type": "code",
   "execution_count": 3,
   "metadata": {},
   "outputs": [],
   "source": [
    "crypto_data = pd.read_html(body)"
   ]
  },
  {
   "cell_type": "code",
   "execution_count": 5,
   "metadata": {},
   "outputs": [
    {
     "name": "stdout",
     "output_type": "stream",
     "text": [
      "<class 'list'>\n",
      "1\n"
     ]
    }
   ],
   "source": [
    "print(type(crypto_data))\n",
    "print(len(crypto_data))"
   ]
  },
  {
   "cell_type": "code",
   "execution_count": 6,
   "metadata": {},
   "outputs": [],
   "source": [
    "crypto_data = crypto_data[0]"
   ]
  },
  {
   "cell_type": "code",
   "execution_count": 7,
   "metadata": {},
   "outputs": [
    {
     "data": {
      "text/html": [
       "<div>\n",
       "<style scoped>\n",
       "    .dataframe tbody tr th:only-of-type {\n",
       "        vertical-align: middle;\n",
       "    }\n",
       "\n",
       "    .dataframe tbody tr th {\n",
       "        vertical-align: top;\n",
       "    }\n",
       "\n",
       "    .dataframe thead th {\n",
       "        text-align: right;\n",
       "    }\n",
       "</style>\n",
       "<table border=\"1\" class=\"dataframe\">\n",
       "  <thead>\n",
       "    <tr style=\"text-align: right;\">\n",
       "      <th></th>\n",
       "      <th>#</th>\n",
       "      <th>Unnamed: 1</th>\n",
       "      <th>Name</th>\n",
       "      <th>Ticker</th>\n",
       "      <th>Last price</th>\n",
       "      <th>%</th>\n",
       "      <th>24 high</th>\n",
       "      <th>24 low</th>\n",
       "      <th>Price Charts 7d</th>\n",
       "      <th>24 volume</th>\n",
       "      <th># Coins</th>\n",
       "      <th>Market cap</th>\n",
       "    </tr>\n",
       "  </thead>\n",
       "  <tbody>\n",
       "    <tr>\n",
       "      <th>0</th>\n",
       "      <td>1</td>\n",
       "      <td>NaN</td>\n",
       "      <td>Bitcoin</td>\n",
       "      <td>BTC</td>\n",
       "      <td>$ 10,271</td>\n",
       "      <td>-2.58%</td>\n",
       "      <td>$ 10,551</td>\n",
       "      <td>$ 10,166</td>\n",
       "      <td>NaN</td>\n",
       "      <td>$ 4.39B</td>\n",
       "      <td>18.49M</td>\n",
       "      <td>$ 189.99B</td>\n",
       "    </tr>\n",
       "    <tr>\n",
       "      <th>1</th>\n",
       "      <td>2</td>\n",
       "      <td>NaN</td>\n",
       "      <td>Ethereum</td>\n",
       "      <td>ETH</td>\n",
       "      <td>$ 323.22</td>\n",
       "      <td>-6.22%</td>\n",
       "      <td>$ 344.96</td>\n",
       "      <td>$ 316.24</td>\n",
       "      <td>NaN</td>\n",
       "      <td>$ 3.33B</td>\n",
       "      <td>112.72M</td>\n",
       "      <td>$ 36.43B</td>\n",
       "    </tr>\n",
       "    <tr>\n",
       "      <th>2</th>\n",
       "      <td>3</td>\n",
       "      <td>NaN</td>\n",
       "      <td>Uniswap</td>\n",
       "      <td>UNI</td>\n",
       "      <td>$ 4.41</td>\n",
       "      <td>+12.55%</td>\n",
       "      <td>$ 5.33</td>\n",
       "      <td>$ 3.91</td>\n",
       "      <td>NaN</td>\n",
       "      <td>$ 805.84M</td>\n",
       "      <td>126.20M</td>\n",
       "      <td>$ 556.18M</td>\n",
       "    </tr>\n",
       "    <tr>\n",
       "      <th>3</th>\n",
       "      <td>4</td>\n",
       "      <td>NaN</td>\n",
       "      <td>Tron</td>\n",
       "      <td>TRX</td>\n",
       "      <td>$ 0.024959</td>\n",
       "      <td>-0.11%</td>\n",
       "      <td>$ 0.026086</td>\n",
       "      <td>$ 0.024653</td>\n",
       "      <td>NaN</td>\n",
       "      <td>$ 723.81M</td>\n",
       "      <td>66.68B</td>\n",
       "      <td>$ 1.66B</td>\n",
       "    </tr>\n",
       "    <tr>\n",
       "      <th>4</th>\n",
       "      <td>5</td>\n",
       "      <td>NaN</td>\n",
       "      <td>Chainlink</td>\n",
       "      <td>LINK</td>\n",
       "      <td>$ 7.88</td>\n",
       "      <td>-10.71%</td>\n",
       "      <td>$ 8.94</td>\n",
       "      <td>$ 7.42</td>\n",
       "      <td>NaN</td>\n",
       "      <td>$ 686.32M</td>\n",
       "      <td>350.00M</td>\n",
       "      <td>$ 2.75B</td>\n",
       "    </tr>\n",
       "  </tbody>\n",
       "</table>\n",
       "</div>"
      ],
      "text/plain": [
       "   # Unnamed: 1       Name Ticker  Last price        %     24 high  \\\n",
       "0  1        NaN    Bitcoin    BTC    $ 10,271   -2.58%    $ 10,551   \n",
       "1  2        NaN   Ethereum    ETH    $ 323.22   -6.22%    $ 344.96   \n",
       "2  3        NaN    Uniswap    UNI      $ 4.41  +12.55%      $ 5.33   \n",
       "3  4        NaN       Tron    TRX  $ 0.024959   -0.11%  $ 0.026086   \n",
       "4  5        NaN  Chainlink   LINK      $ 7.88  -10.71%      $ 8.94   \n",
       "\n",
       "       24 low Price Charts 7d  24 volume  # Coins Market cap  \n",
       "0    $ 10,166             NaN    $ 4.39B   18.49M  $ 189.99B  \n",
       "1    $ 316.24             NaN    $ 3.33B  112.72M   $ 36.43B  \n",
       "2      $ 3.91             NaN  $ 805.84M  126.20M  $ 556.18M  \n",
       "3  $ 0.024653             NaN  $ 723.81M   66.68B    $ 1.66B  \n",
       "4      $ 7.42             NaN  $ 686.32M  350.00M    $ 2.75B  "
      ]
     },
     "execution_count": 7,
     "metadata": {},
     "output_type": "execute_result"
    }
   ],
   "source": [
    "crypto_data.head()"
   ]
  }
 ],
 "metadata": {
  "kernelspec": {
   "display_name": "bootcamp",
   "language": "python",
   "name": "bootcamp"
  },
  "language_info": {
   "codemirror_mode": {
    "name": "ipython",
    "version": 3
   },
   "file_extension": ".py",
   "mimetype": "text/x-python",
   "name": "python",
   "nbconvert_exporter": "python",
   "pygments_lexer": "ipython3",
   "version": "3.8.5"
  }
 },
 "nbformat": 4,
 "nbformat_minor": 4
}
