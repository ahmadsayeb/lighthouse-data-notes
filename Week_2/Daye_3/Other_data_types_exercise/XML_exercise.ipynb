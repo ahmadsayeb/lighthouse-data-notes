{
 "cells": [
  {
   "cell_type": "markdown",
   "metadata": {},
   "source": [
    "# XML exercise"
   ]
  },
  {
   "cell_type": "markdown",
   "metadata": {},
   "source": [
    "Using data from [**mondial database**](https://drive.google.com/file/d/14lFT4nWHgwN36ij4XZh6OUuup-K9qLgR/view?usp=sharing) find the answers to following questions:\n",
    "\n",
    "1. 10 countries with the lowest infant mortality rates\n",
    "2. 10 cities with the largest population\n",
    "3. name and country of a) longest river, b) largest lake and c) airport at highest elevation"
   ]
  },
  {
   "cell_type": "code",
   "execution_count": null,
   "metadata": {},
   "outputs": [],
   "source": []
  },
  {
   "cell_type": "code",
   "execution_count": 31,
   "metadata": {},
   "outputs": [],
   "source": [
    "import pandas as pd\n",
    "import xml.etree.ElementTree as ET\n",
    "from collections import defaultdict\n"
   ]
  },
  {
   "cell_type": "code",
   "execution_count": 2,
   "metadata": {},
   "outputs": [],
   "source": [
    "my_xml = ET.parse('mondial.xml')"
   ]
  },
  {
   "cell_type": "code",
   "execution_count": 10,
   "metadata": {},
   "outputs": [],
   "source": [
    "root = my_xml.getroot()"
   ]
  },
  {
   "cell_type": "code",
   "execution_count": 13,
   "metadata": {},
   "outputs": [
    {
     "data": {
      "text/plain": [
       "{'car_code': 'AL',\n",
       " 'area': '28750',\n",
       " 'capital': 'cty-Albania-Tirane',\n",
       " 'memberships': 'org-BSEC org-CEI org-CD org-SELEC org-CE org-EAPC org-EBRD org-EITI org-FAO org-IPU org-IAEA org-IBRD org-ICC org-ICAO org-ICCt org-Interpol org-IDA org-IFRCS org-IFC org-IFAD org-ILO org-IMO org-IMF org-IOC org-IOM org-ISO org-OIF org-ITU org-ITUC org-IDB org-MIGA org-NATO org-OSCE org-OPCW org-OAS org-OIC org-PCA org-UN org-UNCTAD org-UNESCO org-UNIDO org-UPU org-WCO org-WFTU org-WHO org-WIPO org-WMO org-UNWTO org-WTO'}"
      ]
     },
     "execution_count": 13,
     "metadata": {},
     "output_type": "execute_result"
    }
   ],
   "source": [
    "root[0].attrib"
   ]
  },
  {
   "cell_type": "code",
   "execution_count": 26,
   "metadata": {},
   "outputs": [],
   "source": [
    "mortality_dict = defaultdict() \n",
    "for i in range(len(root)):\n",
    "    for j in range(len(root[i])):\n",
    "        if root[i][j].tag == 'infant_mortality':\n",
    "            mortality_dict[root[i][0].text] = float(root[i][j].text)"
   ]
  },
  {
   "cell_type": "code",
   "execution_count": 33,
   "metadata": {},
   "outputs": [],
   "source": [
    "sort_orders = sorted(mortality_dict.items(), key=lambda x: x[1])"
   ]
  },
  {
   "cell_type": "code",
   "execution_count": 88,
   "metadata": {},
   "outputs": [
    {
     "name": "stdout",
     "output_type": "stream",
     "text": [
      "('Monaco', 1.81)\n",
      "('Japan', 2.13)\n",
      "('Norway', 2.48)\n",
      "('Bermuda', 2.48)\n",
      "('Singapore', 2.53)\n",
      "('Sweden', 2.6)\n",
      "('Czech Republic', 2.63)\n",
      "('Spain', 2.7)\n",
      "('Hong Kong', 2.73)\n",
      "('Macao', 3.13)\n"
     ]
    }
   ],
   "source": [
    "for i in range(0,10):\n",
    "    print(sort_orders[i])"
   ]
  },
  {
   "cell_type": "markdown",
   "metadata": {},
   "source": [
    "<h3>Question 2</h3>"
   ]
  },
  {
   "cell_type": "code",
   "execution_count": 47,
   "metadata": {},
   "outputs": [],
   "source": []
  },
  {
   "cell_type": "code",
   "execution_count": 79,
   "metadata": {},
   "outputs": [],
   "source": [
    "mydict = defaultdict()\n",
    "for country in root.iter('country'):\n",
    "    for city in country.iter('city'):\n",
    "        for population in city.iter('population'):\n",
    "            mydict[city[0].text] = population.text"
   ]
  },
  {
   "cell_type": "code",
   "execution_count": 84,
   "metadata": {},
   "outputs": [],
   "source": [
    "my_dict_sorted = sorted(mydict.items(), key = lambda x:x[1],reverse= True )"
   ]
  },
  {
   "cell_type": "code",
   "execution_count": 89,
   "metadata": {},
   "outputs": [
    {
     "name": "stdout",
     "output_type": "stream",
     "text": [
      "('Cottbus', '99984')\n",
      "('Dnipropetrovsk', '999577')\n",
      "('Noumea', '99926')\n",
      "('Goyang', '999098')\n",
      "('São Gonçalo', '998999')\n"
     ]
    }
   ],
   "source": [
    "for i in range(0,5):\n",
    "    print(my_dict_sorted[i])"
   ]
  },
  {
   "cell_type": "code",
   "execution_count": 138,
   "metadata": {},
   "outputs": [],
   "source": [
    "my_third = defaultdict()\n",
    "for river in root.iter('river'):\n",
    "    for area in river.iter('area'):\n",
    "        my_string = river[0].text +','+ river.attrib['country']\n",
    "        my_third[my_string] = float(area.text)"
   ]
  },
  {
   "cell_type": "code",
   "execution_count": 139,
   "metadata": {},
   "outputs": [
    {
     "data": {
      "text/plain": [
       "('Amazonas,CO BR PE', 7050000.0)"
      ]
     },
     "execution_count": 139,
     "metadata": {},
     "output_type": "execute_result"
    }
   ],
   "source": [
    "sorted(my_third.items(), key = lambda x:x[1], reverse = 1)[0]"
   ]
  },
  {
   "cell_type": "code",
   "execution_count": 144,
   "metadata": {},
   "outputs": [],
   "source": [
    "my_fourth = defaultdict()\n",
    "for lake in root.iter('lake'):\n",
    "    for area in lake.iter('area'):\n",
    "        my_string = lake[0].text +', '+ lake.attrib['country']\n",
    "        my_fourth[my_string] = float(area.text)"
   ]
  },
  {
   "cell_type": "code",
   "execution_count": 145,
   "metadata": {},
   "outputs": [
    {
     "data": {
      "text/plain": [
       "('Caspian Sea, R AZ KAZ IR TM', 386400.0)"
      ]
     },
     "execution_count": 145,
     "metadata": {},
     "output_type": "execute_result"
    }
   ],
   "source": [
    "sorted(my_fourth.items(), key = lambda x:x[1], reverse = 1)[0]"
   ]
  },
  {
   "cell_type": "code",
   "execution_count": 147,
   "metadata": {},
   "outputs": [],
   "source": [
    "my_fifth = defaultdict()\n",
    "for airport in root.iter('airport'):\n",
    "    for elevation in airport.iter('elevation'):\n",
    "        my_fift_string = airport[0].text + ', ' + airport.attrib['country']\n",
    "        my_fifth[my_fift_string] = float(elevation.text)"
   ]
  },
  {
   "cell_type": "code",
   "execution_count": 150,
   "metadata": {},
   "outputs": [
    {
     "data": {
      "text/plain": [
       "('El Alto Intl, BOL', 4063.0)"
      ]
     },
     "execution_count": 150,
     "metadata": {},
     "output_type": "execute_result"
    }
   ],
   "source": [
    "sorted(my_fifth.items(), key=lambda x:x[1], reverse = 1)[0]"
   ]
  }
 ],
 "metadata": {
  "anaconda-cloud": {},
  "kernelspec": {
   "display_name": "Python 3",
   "language": "python",
   "name": "python3"
  },
  "language_info": {
   "codemirror_mode": {
    "name": "ipython",
    "version": 3
   },
   "file_extension": ".py",
   "mimetype": "text/x-python",
   "name": "python",
   "nbconvert_exporter": "python",
   "pygments_lexer": "ipython3",
   "version": "3.8.5"
  }
 },
 "nbformat": 4,
 "nbformat_minor": 4
}
