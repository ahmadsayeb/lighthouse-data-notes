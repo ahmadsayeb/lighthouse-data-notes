{
 "cells": [
  {
   "cell_type": "markdown",
   "metadata": {},
   "source": [
    "# Data Wrangling Challenge\n",
    "### Pull and manipulate the API data\n",
    "\n",
    "The point of this exercise is to try data enrichment with data from external APIs. We are going to take data about car crashes in Monroe County, Indiana from 2003 to 2015 and try to figure out the weather during the accident and how many bars there are in the area. We will work with two different APIs during this challenge:\n",
    "\n",
    "- Foursquare API\n",
    "- Visual Crossing API\n",
    "\n",
    "We will try to find correlations between the severity of crash and weather/number of bars in the area. To indicate the severity of a crash, we will use column `Injury Type`."
   ]
  },
  {
   "cell_type": "markdown",
   "metadata": {},
   "source": [
    "## Data\n",
    "\n",
    "The data for this exercise can be found [here](https://drive.google.com/file/d/1_KF9oIJV8cB8i3ngA4JPOLWIE_ETE6CJ/view?usp=sharing).\n",
    "\n",
    "Just run the cells below to get your data ready. Little help from us.\n"
   ]
  },
  {
   "cell_type": "code",
   "execution_count": 2,
   "metadata": {},
   "outputs": [],
   "source": [
    "import pandas as pd\n",
    "import os\n",
    "import requests as re\n",
    "import json\n",
    "from IPython.display import JSON \n",
    "import numpy as np\n",
    "from numpy.random import default_rng"
   ]
  },
  {
   "cell_type": "code",
   "execution_count": 3,
   "metadata": {},
   "outputs": [
    {
     "name": "stdout",
     "output_type": "stream",
     "text": [
      "(49005, 13)\n"
     ]
    }
   ],
   "source": [
    "data = pd.read_csv(\"monroe-county-crash-data2003-to-2015.csv\", encoding=\"unicode_escape\")\n",
    "# ========================\n",
    "# preparing data\n",
    "data.dropna(subset=['Latitude', 'Longitude'], inplace=True)\n",
    "# creation of variable with lon and lat together\n",
    "data['ll'] = data['Latitude'].astype(str) + ',' + data['Longitude'].astype(str)\n",
    "data = data[data['ll'] != '0.0,0.0']\n",
    "print(data.shape)\n"
   ]
  },
  {
   "cell_type": "code",
   "execution_count": 14,
   "metadata": {},
   "outputs": [
    {
     "data": {
      "text/plain": [
       "'39.133744,-86.50591999999999'"
      ]
     },
     "execution_count": 14,
     "metadata": {},
     "output_type": "execute_result"
    }
   ],
   "source": [
    "data['ll'][300]"
   ]
  },
  {
   "cell_type": "markdown",
   "metadata": {},
   "source": [
    "# Foursquare API\n",
    "\n",
    "Foursquare API documentation is [here](https://developer.foursquare.com/)\n",
    "\n",
    "1. Start a foursquare application and get your keys.\n",
    "2. For each crash, create the function **get_venues** that will pull bars in the radius of 5km around the crash\n",
    "\n",
    "#### example\n",
    "`get_venues('48.146394, 17.107969')`\n",
    "\n",
    "3. Find a relationship (if there is any) between number of bars in the area and severity of the crash.\n",
    "\n",
    "HINTs: \n",
    "- check out python package \"foursquare\" (no need to send HTTP requests directly with library `requests`)\n",
    "- **categoryId** for bars and nightlife needs to be found in the [foursquare API documentation](https://developer.foursquare.com/docs/api-reference/venues/search/)"
   ]
  },
  {
   "cell_type": "code",
   "execution_count": null,
   "metadata": {},
   "outputs": [],
   "source": []
  },
  {
   "cell_type": "code",
   "execution_count": 31,
   "metadata": {},
   "outputs": [],
   "source": [
    "def get_venues(locstring):    \n",
    "    #URL request\n",
    "    \n",
    "    url = 'https://api.foursquare.com/v2/venues/search'\n",
    "    params = dict(\n",
    "    client_id='QSPKXLAWDU4ULH1G044BFW4ETF31K0PQ4RYUV5VV3W1YYIOW',\n",
    "    client_secret='T0DSRMUKYZXB4NLODWYUITVSQYGMXKRPQXG0J04B3CXKREGR',\n",
    "    v='20180323',\n",
    "    ll=locstring,\n",
    "    query='company',\n",
    "    radius = 5000,\n",
    "    limit=50\n",
    "    )\n",
    "    \n",
    "    try:\n",
    "        resp = re.get(url=url, params=params)\n",
    "        resp_json = json.loads(resp.text)\n",
    "        \n",
    "    except Exception as e:\n",
    "        print(e)\n",
    "        \n",
    "    return resp_json"
   ]
  },
  {
   "cell_type": "code",
   "execution_count": 33,
   "metadata": {},
   "outputs": [
    {
     "data": {
      "application/json": {
       "meta": {
        "code": 200,
        "requestId": "5f6caf90f6f5be02d5d51f75"
       },
       "response": {
        "venues": [
         {
          "beenHere": {
           "count": 0,
           "lastCheckinExpiredAt": 0,
           "marked": false,
           "unconfirmedCount": 0
          },
          "categories": [
           {
            "icon": {
             "prefix": "https://ss3.4sqi.net/img/categories_v2/building/default_",
             "suffix": ".png"
            },
            "id": "4bf58dd8d48988d124941735",
            "name": "Office",
            "pluralName": "Offices",
            "primary": true,
            "shortName": "Office"
           }
          ],
          "contact": {},
          "hasPerk": false,
          "hereNow": {
           "count": 0,
           "groups": [],
           "summary": "Nobody here"
          },
          "id": "4f54fefde4b0b5d9e028f5e1",
          "location": {
           "address": "Gorkeho 4",
           "cc": "SK",
           "city": "Bratislava",
           "country": "Slovensko",
           "distance": 370,
           "formattedAddress": [
            "Gorkeho 4",
            "Bratislava",
            "Slovensko"
           ],
           "labeledLatLngs": [
            {
             "label": "display",
             "lat": 48.14396101003751,
             "lng": 17.11137465537517
            }
           ],
           "lat": 48.14396101003751,
           "lng": 17.11137465537517,
           "state": "Bratislavský kraj"
          },
          "name": "WOOD & Company, Slovakia",
          "referralId": "v-1600958352",
          "stats": {
           "checkinsCount": 0,
           "tipCount": 0,
           "usersCount": 0,
           "visitsCount": 0
          },
          "venueChains": [],
          "verified": false
         },
         {
          "beenHere": {
           "count": 0,
           "lastCheckinExpiredAt": 0,
           "marked": false,
           "unconfirmedCount": 0
          },
          "categories": [
           {
            "icon": {
             "prefix": "https://ss3.4sqi.net/img/categories_v2/food/coffeeshop_",
             "suffix": ".png"
            },
            "id": "4bf58dd8d48988d1e0931735",
            "name": "Coffee Shop",
            "pluralName": "Coffee Shops",
            "primary": true,
            "shortName": "Coffee Shop"
           }
          ],
          "contact": {},
          "hasPerk": false,
          "hereNow": {
           "count": 0,
           "groups": [],
           "summary": "Nobody here"
          },
          "id": "509e82c1e4b0ca91fb0a4210",
          "location": {
           "address": "Metodova 6",
           "cc": "SK",
           "city": "Bratislava",
           "country": "Slovensko",
           "crossStreet": "Central",
           "distance": 2002,
           "formattedAddress": [
            "Metodova 6 (Central)",
            "821 08 Bratislava",
            "Slovensko"
           ],
           "labeledLatLngs": [
            {
             "label": "display",
             "lat": 48.15758570302933,
             "lng": 17.129074672054593
            }
           ],
           "lat": 48.15758570302933,
           "lng": 17.129074672054593,
           "postalCode": "821 08",
           "state": "Bratislavský kraj"
          },
          "name": "Coffeeshop Company",
          "referralId": "v-1600958352",
          "stats": {
           "checkinsCount": 0,
           "tipCount": 0,
           "usersCount": 0,
           "visitsCount": 0
          },
          "venueChains": [],
          "verified": false
         },
         {
          "beenHere": {
           "count": 0,
           "lastCheckinExpiredAt": 0,
           "marked": false,
           "unconfirmedCount": 0
          },
          "categories": [
           {
            "icon": {
             "prefix": "https://ss3.4sqi.net/img/categories_v2/food/coffeeshop_",
             "suffix": ".png"
            },
            "id": "4bf58dd8d48988d1e0931735",
            "name": "Coffee Shop",
            "pluralName": "Coffee Shops",
            "primary": true,
            "shortName": "Coffee Shop"
           }
          ],
          "contact": {},
          "hasPerk": false,
          "hereNow": {
           "count": 0,
           "groups": [],
           "summary": "Nobody here"
          },
          "id": "52447251498ec6ff5d24c2f0",
          "location": {
           "address": "Pribinova 8",
           "cc": "SK",
           "city": "Bratislava",
           "country": "Slovensko",
           "distance": 1335,
           "formattedAddress": [
            "Pribinova 8",
            "811 01 Bratislava",
            "Slovensko"
           ],
           "labeledLatLngs": [
            {
             "label": "display",
             "lat": 48.14006667294471,
             "lng": 17.123246651534515
            }
           ],
           "lat": 48.14006667294471,
           "lng": 17.123246651534515,
           "postalCode": "811 01",
           "state": "Bratislavský kraj"
          },
          "name": "Coffeeshop Company",
          "referralId": "v-1600958352",
          "stats": {
           "checkinsCount": 0,
           "tipCount": 0,
           "usersCount": 0,
           "visitsCount": 0
          },
          "venueChains": [],
          "verified": false
         },
         {
          "beenHere": {
           "count": 0,
           "lastCheckinExpiredAt": 0,
           "marked": false,
           "unconfirmedCount": 0
          },
          "categories": [
           {
            "icon": {
             "prefix": "https://ss3.4sqi.net/img/categories_v2/building/default_",
             "suffix": ".png"
            },
            "id": "4bf58dd8d48988d124941735",
            "name": "Office",
            "pluralName": "Offices",
            "primary": true,
            "shortName": "Office"
           }
          ],
          "contact": {},
          "hasPerk": false,
          "hereNow": {
           "count": 0,
           "groups": [],
           "summary": "Nobody here"
          },
          "id": "5b9916baad1789002cde9425",
          "location": {
           "address": "Mostová 2",
           "cc": "SK",
           "city": "Bratislava",
           "country": "Slovensko",
           "distance": 587,
           "formattedAddress": [
            "Mostová 2",
            "811 02 Bratislava",
            "Slovensko"
           ],
           "labeledLatLngs": [
            {
             "label": "display",
             "lat": 48.1412,
             "lng": 17.109388
            }
           ],
           "lat": 48.1412,
           "lng": 17.109388,
           "postalCode": "811 02",
           "state": "Bratislavský kraj"
          },
          "name": "tcs - trustee company servises a. s.",
          "referralId": "v-1600958352",
          "stats": {
           "checkinsCount": 0,
           "tipCount": 0,
           "usersCount": 0,
           "visitsCount": 0
          },
          "venueChains": [],
          "verified": false
         },
         {
          "beenHere": {
           "count": 0,
           "lastCheckinExpiredAt": 0,
           "marked": false,
           "unconfirmedCount": 0
          },
          "categories": [
           {
            "icon": {
             "prefix": "https://ss3.4sqi.net/img/categories_v2/food/cafe_",
             "suffix": ".png"
            },
            "id": "4bf58dd8d48988d16d941735",
            "name": "Café",
            "pluralName": "Cafés",
            "primary": true,
            "shortName": "Café"
           }
          ],
          "contact": {},
          "hasPerk": false,
          "hereNow": {
           "count": 0,
           "groups": [],
           "summary": "Nobody here"
          },
          "id": "4bc7080f15a7ef3b609878da",
          "location": {
           "address": "Turčianska 2",
           "cc": "SK",
           "city": "Bratislava",
           "country": "Slovensko",
           "distance": 2281,
           "formattedAddress": [
            "Turčianska 2",
            "821 09 Bratislava",
            "Slovensko"
           ],
           "labeledLatLngs": [
            {
             "label": "display",
             "lat": 48.14580818490994,
             "lng": 17.13867276108563
            }
           ],
           "lat": 48.14580818490994,
           "lng": 17.13867276108563,
           "postalCode": "821 09",
           "state": "Bratislavský kraj"
          },
          "name": "Coffeeshop Company",
          "referralId": "v-1600958352",
          "stats": {
           "checkinsCount": 0,
           "tipCount": 0,
           "usersCount": 0,
           "visitsCount": 0
          },
          "venueChains": [],
          "verified": false
         },
         {
          "beenHere": {
           "count": 0,
           "lastCheckinExpiredAt": 0,
           "marked": false,
           "unconfirmedCount": 0
          },
          "categories": [
           {
            "icon": {
             "prefix": "https://ss3.4sqi.net/img/categories_v2/shops/beauty_cosmetic_",
             "suffix": ".png"
            },
            "id": "4bf58dd8d48988d10c951735",
            "name": "Cosmetics Shop",
            "pluralName": "Cosmetics Shops",
            "primary": true,
            "shortName": "Cosmetics"
           }
          ],
          "contact": {},
          "hasPerk": false,
          "hereNow": {
           "count": 0,
           "groups": [],
           "summary": "Nobody here"
          },
          "id": "5b75aaa88b98fd002c2bcb8c",
          "location": {
           "address": "Košická 6",
           "cc": "SK",
           "city": "Bratislava",
           "country": "Slovensko",
           "distance": 1835,
           "formattedAddress": [
            "Košická 6",
            "821 09 Bratislava",
            "Slovensko"
           ],
           "labeledLatLngs": [
            {
             "label": "display",
             "lat": 48.14672,
             "lng": 17.13268
            }
           ],
           "lat": 48.14672,
           "lng": 17.13268,
           "postalCode": "821 09",
           "state": "Bratislavský kraj"
          },
          "name": "HIRAR company s.r.o.",
          "referralId": "v-1600958352",
          "stats": {
           "checkinsCount": 0,
           "tipCount": 0,
           "usersCount": 0,
           "visitsCount": 0
          },
          "venueChains": [],
          "verified": false
         },
         {
          "beenHere": {
           "count": 0,
           "lastCheckinExpiredAt": 0,
           "marked": false,
           "unconfirmedCount": 0
          },
          "categories": [
           {
            "icon": {
             "prefix": "https://ss3.4sqi.net/img/categories_v2/food/default_",
             "suffix": ".png"
            },
            "id": "4bf58dd8d48988d1c4941735",
            "name": "Restaurant",
            "pluralName": "Restaurants",
            "primary": true,
            "shortName": "Restaurant"
           }
          ],
          "contact": {},
          "hasPerk": false,
          "hereNow": {
           "count": 0,
           "groups": [],
           "summary": "Nobody here"
          },
          "id": "4ee4ba44e4b04d23e13faff3",
          "location": {
           "cc": "SK",
           "country": "Slovensko",
           "distance": 356,
           "formattedAddress": [
            "Slovensko"
           ],
           "labeledLatLngs": [
            {
             "label": "display",
             "lat": 48.14400964917597,
             "lng": 17.11116493410496
            }
           ],
           "lat": 48.14400964917597,
           "lng": 17.11116493410496
          },
          "name": "Company Pub & Restaurant",
          "referralId": "v-1600958352",
          "stats": {
           "checkinsCount": 0,
           "tipCount": 0,
           "usersCount": 0,
           "visitsCount": 0
          },
          "venueChains": [],
          "verified": false
         },
         {
          "beenHere": {
           "count": 0,
           "lastCheckinExpiredAt": 0,
           "marked": false,
           "unconfirmedCount": 0
          },
          "categories": [
           {
            "icon": {
             "prefix": "https://ss3.4sqi.net/img/categories_v2/food/coffeeshop_",
             "suffix": ".png"
            },
            "id": "4bf58dd8d48988d1e0931735",
            "name": "Coffee Shop",
            "pluralName": "Coffee Shops",
            "primary": true,
            "shortName": "Coffee Shop"
           }
          ],
          "contact": {},
          "hasPerk": false,
          "hereNow": {
           "count": 0,
           "groups": [],
           "summary": "Nobody here"
          },
          "id": "52566b4e11d270dff41642df",
          "location": {
           "address": "Bajkalská 28",
           "cc": "SK",
           "city": "Bratislava",
           "country": "Slovensko",
           "crossStreet": "Forum Business Center",
           "distance": 3128,
           "formattedAddress": [
            "Bajkalská 28 (Forum Business Center)",
            "Bratislava",
            "Slovensko"
           ],
           "labeledLatLngs": [
            {
             "label": "display",
             "lat": 48.14808816228418,
             "lng": 17.150010508110817
            }
           ],
           "lat": 48.14808816228418,
           "lng": 17.150010508110817,
           "state": "Bratislavský kraj"
          },
          "name": "Coffeeshop Company",
          "referralId": "v-1600958352",
          "stats": {
           "checkinsCount": 0,
           "tipCount": 0,
           "usersCount": 0,
           "visitsCount": 0
          },
          "venueChains": [],
          "verified": false
         },
         {
          "beenHere": {
           "count": 0,
           "lastCheckinExpiredAt": 0,
           "marked": false,
           "unconfirmedCount": 0
          },
          "categories": [
           {
            "icon": {
             "prefix": "https://ss3.4sqi.net/img/categories_v2/food/cafe_",
             "suffix": ".png"
            },
            "id": "4bf58dd8d48988d16d941735",
            "name": "Café",
            "pluralName": "Cafés",
            "primary": true,
            "shortName": "Café"
           }
          ],
          "contact": {},
          "hasPerk": false,
          "hereNow": {
           "count": 0,
           "groups": [],
           "summary": "Nobody here"
          },
          "id": "4d6e4df18df15481b6ae7c23",
          "location": {
           "address": "Tomášikova 64/100B",
           "cc": "SK",
           "city": "Bratislava",
           "country": "Slovensko",
           "distance": 3911,
           "formattedAddress": [
            "Tomášikova 64/100B",
            "Bratislava",
            "Slovensko"
           ],
           "labeledLatLngs": [
            {
             "label": "display",
             "lat": 48.17265689871182,
             "lng": 17.142961255084977
            }
           ],
           "lat": 48.17265689871182,
           "lng": 17.142961255084977,
           "state": "Bratislavský kraj"
          },
          "name": "Coffeeshop Company",
          "referralId": "v-1600958352",
          "stats": {
           "checkinsCount": 0,
           "tipCount": 0,
           "usersCount": 0,
           "visitsCount": 0
          },
          "venueChains": [],
          "verified": false
         },
         {
          "beenHere": {
           "count": 0,
           "lastCheckinExpiredAt": 0,
           "marked": false,
           "unconfirmedCount": 0
          },
          "categories": [
           {
            "icon": {
             "prefix": "https://ss3.4sqi.net/img/categories_v2/food/coffeeshop_",
             "suffix": ".png"
            },
            "id": "4bf58dd8d48988d1e0931735",
            "name": "Coffee Shop",
            "pluralName": "Coffee Shops",
            "primary": true,
            "shortName": "Coffee Shop"
           }
          ],
          "contact": {},
          "hasPerk": false,
          "hereNow": {
           "count": 0,
           "groups": [],
           "summary": "Nobody here"
          },
          "id": "4e2d4774483bb05f05b0a663",
          "location": {
           "address": "Karadžičova 8",
           "cc": "SK",
           "city": "Bratislava",
           "country": "Slovensko",
           "crossStreet": "CBC",
           "distance": 1284,
           "formattedAddress": [
            "Karadžičova 8 (CBC)",
            "Bratislava",
            "Slovensko"
           ],
           "labeledLatLngs": [
            {
             "label": "display",
             "lat": 48.147847306727414,
             "lng": 17.125119647142075
            }
           ],
           "lat": 48.147847306727414,
           "lng": 17.125119647142075,
           "state": "Bratislavský kraj"
          },
          "name": "Coffeeshop Company",
          "referralId": "v-1600958352",
          "stats": {
           "checkinsCount": 0,
           "tipCount": 0,
           "usersCount": 0,
           "visitsCount": 0
          },
          "venueChains": [],
          "verified": false
         },
         {
          "beenHere": {
           "count": 0,
           "lastCheckinExpiredAt": 0,
           "marked": false,
           "unconfirmedCount": 0
          },
          "categories": [
           {
            "icon": {
             "prefix": "https://ss3.4sqi.net/img/categories_v2/shops/realestate_",
             "suffix": ".png"
            },
            "id": "5032885091d4c4b30a586d66",
            "name": "Real Estate Office",
            "pluralName": "Real Estate Offices",
            "primary": true,
            "shortName": "Real Estate"
           }
          ],
          "contact": {},
          "hasPerk": false,
          "hereNow": {
           "count": 0,
           "groups": [],
           "summary": "Nobody here"
          },
          "id": "5dac648018e43d0007741924",
          "location": {
           "address": "Zámocká 10",
           "cc": "SK",
           "city": "Bratislava",
           "country": "Slovensko",
           "distance": 736,
           "formattedAddress": [
            "Zámocká 10",
            "811 01 Bratislava",
            "Slovensko"
           ],
           "labeledLatLngs": [
            {
             "label": "display",
             "lat": 48.143587,
             "lng": 17.098991
            }
           ],
           "lat": 48.143587,
           "lng": 17.098991,
           "postalCode": "811 01",
           "state": "Bratislavský kraj"
          },
          "name": "ARTHUR Real Estate Company",
          "referralId": "v-1600958352",
          "stats": {
           "checkinsCount": 0,
           "tipCount": 0,
           "usersCount": 0,
           "visitsCount": 0
          },
          "venueChains": [],
          "verified": false
         },
         {
          "beenHere": {
           "count": 0,
           "lastCheckinExpiredAt": 0,
           "marked": false,
           "unconfirmedCount": 0
          },
          "categories": [
           {
            "icon": {
             "prefix": "https://ss3.4sqi.net/img/categories_v2/food/coffeeshop_",
             "suffix": ".png"
            },
            "id": "4bf58dd8d48988d1e0931735",
            "name": "Coffee Shop",
            "pluralName": "Coffee Shops",
            "primary": true,
            "shortName": "Coffee Shop"
           }
          ],
          "contact": {},
          "hasPerk": false,
          "hereNow": {
           "count": 0,
           "groups": [],
           "summary": "Nobody here"
          },
          "id": "5c8f475bf870fd002c376f7f",
          "location": {
           "cc": "SK",
           "city": "Bratislava",
           "country": "Slovensko",
           "distance": 1501,
           "formattedAddress": [
            "811 09 Bratislava",
            "Slovensko"
           ],
           "labeledLatLngs": [
            {
             "label": "display",
             "lat": 48.141811,
             "lng": 17.126974
            }
           ],
           "lat": 48.141811,
           "lng": 17.126974,
           "postalCode": "811 09",
           "state": "Bratislavský kraj"
          },
          "name": "Coffeshop Company - Panorama City",
          "referralId": "v-1600958352",
          "stats": {
           "checkinsCount": 0,
           "tipCount": 0,
           "usersCount": 0,
           "visitsCount": 0
          },
          "venueChains": [],
          "verified": false
         },
         {
          "beenHere": {
           "count": 0,
           "lastCheckinExpiredAt": 0,
           "marked": false,
           "unconfirmedCount": 0
          },
          "categories": [
           {
            "icon": {
             "prefix": "https://ss3.4sqi.net/img/categories_v2/food/cafe_",
             "suffix": ".png"
            },
            "id": "4bf58dd8d48988d16d941735",
            "name": "Café",
            "pluralName": "Cafés",
            "primary": true,
            "shortName": "Café"
           }
          ],
          "contact": {},
          "hasPerk": false,
          "hereNow": {
           "count": 0,
           "groups": [],
           "summary": "Nobody here"
          },
          "id": "53ad9906498eb839dee379c2",
          "location": {
           "address": "Ivanská cesta 16",
           "cc": "SK",
           "city": "Bratislava",
           "country": "Slovensko",
           "distance": 5855,
           "formattedAddress": [
            "Ivanská cesta 16",
            "821 02 Bratislava",
            "Slovensko"
           ],
           "labeledLatLngs": [
            {
             "label": "display",
             "lat": 48.167083844138354,
             "lng": 17.180460212216207
            }
           ],
           "lat": 48.167083844138354,
           "lng": 17.180460212216207,
           "postalCode": "821 02",
           "state": "Bratislavský kraj"
          },
          "name": "Coffeeshop Company",
          "referralId": "v-1600958352",
          "stats": {
           "checkinsCount": 0,
           "tipCount": 0,
           "usersCount": 0,
           "visitsCount": 0
          },
          "venueChains": [],
          "verified": false
         },
         {
          "beenHere": {
           "count": 0,
           "lastCheckinExpiredAt": 0,
           "marked": false,
           "unconfirmedCount": 0
          },
          "categories": [
           {
            "icon": {
             "prefix": "https://ss3.4sqi.net/img/categories_v2/building/default_",
             "suffix": ".png"
            },
            "id": "4bf58dd8d48988d124941735",
            "name": "Office",
            "pluralName": "Offices",
            "primary": true,
            "shortName": "Office"
           }
          ],
          "contact": {},
          "hasPerk": false,
          "hereNow": {
           "count": 0,
           "groups": [],
           "summary": "Nobody here"
          },
          "id": "4fabb9f8e4b02cf91ff62a37",
          "location": {
           "address": "Matúškova 10",
           "cc": "SK",
           "city": "Bratislava",
           "country": "Slovensko",
           "distance": 1505,
           "formattedAddress": [
            "Matúškova 10",
            "Bratislava",
            "Slovensko"
           ],
           "labeledLatLngs": [
            {
             "label": "display",
             "lat": 48.159746400482064,
             "lng": 17.11115944274856
            }
           ],
           "lat": 48.159746400482064,
           "lng": 17.11115944274856,
           "state": "Bratislavský kraj"
          },
          "name": "Film Europe Media Company",
          "referralId": "v-1600958352",
          "stats": {
           "checkinsCount": 0,
           "tipCount": 0,
           "usersCount": 0,
           "visitsCount": 0
          },
          "venueChains": [],
          "verified": false
         },
         {
          "beenHere": {
           "count": 0,
           "lastCheckinExpiredAt": 0,
           "marked": false,
           "unconfirmedCount": 0
          },
          "categories": [
           {
            "icon": {
             "prefix": "https://ss3.4sqi.net/img/categories_v2/building/default_",
             "suffix": ".png"
            },
            "id": "5032764e91d4c4b30a586d5a",
            "name": "Campaign Office",
            "pluralName": "Campaign Offices",
            "primary": true,
            "shortName": "Campaign"
           }
          ],
          "contact": {},
          "hasPerk": false,
          "hereNow": {
           "count": 0,
           "groups": [],
           "summary": "Nobody here"
          },
          "id": "5064635ae4b0b774f679a32b",
          "location": {
           "address": "Košická 37",
           "cc": "SK",
           "city": "Bratislava",
           "country": "Slovensko",
           "distance": 1909,
           "formattedAddress": [
            "Košická 37",
            "821 08 Bratislava",
            "Slovensko"
           ],
           "labeledLatLngs": [
            {
             "label": "display",
             "lat": 48.14606899370886,
             "lng": 17.133667468041143
            }
           ],
           "lat": 48.14606899370886,
           "lng": 17.133667468041143,
           "postalCode": "821 08",
           "state": "Bratislavský kraj"
          },
          "name": "LNY Company s.r.o.",
          "referralId": "v-1600958352",
          "stats": {
           "checkinsCount": 0,
           "tipCount": 0,
           "usersCount": 0,
           "visitsCount": 0
          },
          "venueChains": [],
          "verified": false
         },
         {
          "beenHere": {
           "count": 0,
           "lastCheckinExpiredAt": 0,
           "marked": false,
           "unconfirmedCount": 0
          },
          "categories": [
           {
            "icon": {
             "prefix": "https://ss3.4sqi.net/img/categories_v2/shops/papergoods_",
             "suffix": ".png"
            },
            "id": "4bf58dd8d48988d121951735",
            "name": "Paper / Office Supplies Store",
            "pluralName": "Paper / Office Supplies Stores",
            "primary": true,
            "shortName": "Office Supplies"
           }
          ],
          "contact": {},
          "hasPerk": false,
          "hereNow": {
           "count": 0,
           "groups": [],
           "summary": "Nobody here"
          },
          "id": "500fb962e4b0925e98f3417c",
          "location": {
           "address": "Planckova 3",
           "cc": "SK",
           "city": "Bratislava",
           "country": "Slovensko",
           "distance": 2008,
           "formattedAddress": [
            "Planckova 3",
            "851 01 Bratislava",
            "Slovensko"
           ],
           "labeledLatLngs": [
            {
             "label": "display",
             "lat": 48.12990951538086,
             "lng": 17.096988677978516
            }
           ],
           "lat": 48.12990951538086,
           "lng": 17.096988677978516,
           "postalCode": "851 01",
           "state": "Bratislavský kraj"
          },
          "name": "PERCIPIUM - translation company",
          "referralId": "v-1600958352",
          "stats": {
           "checkinsCount": 0,
           "tipCount": 0,
           "usersCount": 0,
           "visitsCount": 0
          },
          "venueChains": [],
          "verified": false
         },
         {
          "beenHere": {
           "count": 0,
           "lastCheckinExpiredAt": 0,
           "marked": false,
           "unconfirmedCount": 0
          },
          "categories": [
           {
            "icon": {
             "prefix": "https://ss3.4sqi.net/img/categories_v2/food/coffeeshop_",
             "suffix": ".png"
            },
            "id": "4bf58dd8d48988d1e0931735",
            "name": "Coffee Shop",
            "pluralName": "Coffee Shops",
            "primary": true,
            "shortName": "Coffee Shop"
           }
          ],
          "contact": {},
          "hasPerk": false,
          "hereNow": {
           "count": 0,
           "groups": [],
           "summary": "Nobody here"
          },
          "id": "511b4a95e4b0858219cd46f8",
          "location": {
           "address": "Mlynská dolina",
           "cc": "SK",
           "city": "Bratislava",
           "country": "Slovensko",
           "crossStreet": "Prírodovedecká fakulta UK",
           "distance": 2731,
           "formattedAddress": [
            "Mlynská dolina (Prírodovedecká fakulta UK)",
            "Bratislava",
            "Slovensko"
           ],
           "labeledLatLngs": [
            {
             "label": "display",
             "lat": 48.149641523768715,
             "lng": 17.071516171272325
            }
           ],
           "lat": 48.149641523768715,
           "lng": 17.071516171272325,
           "state": "Bratislavský kraj"
          },
          "name": "Coffeeshop Company",
          "referralId": "v-1600958352",
          "stats": {
           "checkinsCount": 0,
           "tipCount": 0,
           "usersCount": 0,
           "visitsCount": 0
          },
          "venueChains": [],
          "verified": false
         },
         {
          "beenHere": {
           "count": 0,
           "lastCheckinExpiredAt": 0,
           "marked": false,
           "unconfirmedCount": 0
          },
          "categories": [
           {
            "icon": {
             "prefix": "https://ss3.4sqi.net/img/categories_v2/building/default_",
             "suffix": ".png"
            },
            "id": "56aa371be4b08b9a8d573517",
            "name": "Business Center",
            "pluralName": "Business Centers",
            "primary": true,
            "shortName": "Business Center"
           }
          ],
          "contact": {},
          "hasPerk": false,
          "hereNow": {
           "count": 0,
           "groups": [],
           "summary": "Nobody here"
          },
          "id": "56e957e3498e2744604800a7",
          "location": {
           "cc": "SK",
           "country": "Slovensko",
           "distance": 565,
           "formattedAddress": [
            "Slovensko"
           ],
           "labeledLatLngs": [
            {
             "label": "display",
             "lat": 48.148053,
             "lng": 17.100771
            }
           ],
           "lat": 48.148053,
           "lng": 17.100771
          },
          "name": "CompanyHouse",
          "referralId": "v-1600958352",
          "stats": {
           "checkinsCount": 0,
           "tipCount": 0,
           "usersCount": 0,
           "visitsCount": 0
          },
          "venueChains": [],
          "verified": false
         },
         {
          "beenHere": {
           "count": 0,
           "lastCheckinExpiredAt": 0,
           "marked": false,
           "unconfirmedCount": 0
          },
          "categories": [
           {
            "icon": {
             "prefix": "https://ss3.4sqi.net/img/categories_v2/food/coffeeshop_",
             "suffix": ".png"
            },
            "id": "4bf58dd8d48988d1e0931735",
            "name": "Coffee Shop",
            "pluralName": "Coffee Shops",
            "primary": true,
            "shortName": "Coffee Shop"
           }
          ],
          "contact": {},
          "hasPerk": false,
          "hereNow": {
           "count": 0,
           "groups": [],
           "summary": "Nobody here"
          },
          "id": "582efc0303cf253166315ac5",
          "location": {
           "address": "Odbojarov 10",
           "cc": "SK",
           "city": "Bratislava",
           "country": "Slovensko",
           "distance": 2504,
           "formattedAddress": [
            "Odbojarov 10",
            "831 04 Bratislava",
            "Slovensko"
           ],
           "labeledLatLngs": [
            {
             "label": "display",
             "lat": 48.160374,
             "lng": 17.134394
            }
           ],
           "lat": 48.160374,
           "lng": 17.134394,
           "postalCode": "831 04",
           "state": "Bratislavský kraj"
          },
          "name": "coffeeshop company",
          "referralId": "v-1600958352",
          "stats": {
           "checkinsCount": 0,
           "tipCount": 0,
           "usersCount": 0,
           "visitsCount": 0
          },
          "venueChains": [],
          "verified": false
         },
         {
          "beenHere": {
           "count": 0,
           "lastCheckinExpiredAt": 0,
           "marked": false,
           "unconfirmedCount": 0
          },
          "categories": [
           {
            "icon": {
             "prefix": "https://ss3.4sqi.net/img/categories_v2/building/default_",
             "suffix": ".png"
            },
            "id": "4bf58dd8d48988d124941735",
            "name": "Office",
            "pluralName": "Offices",
            "primary": true,
            "shortName": "Office"
           }
          ],
          "contact": {},
          "hasPerk": false,
          "hereNow": {
           "count": 0,
           "groups": [],
           "summary": "Nobody here"
          },
          "id": "534fa95211d2de8f94a89aa4",
          "location": {
           "address": "Kladnianska 12",
           "cc": "SK",
           "city": "Bratislava",
           "country": "Slovensko",
           "distance": 4051,
           "formattedAddress": [
            "Kladnianska 12",
            "821 05 Bratislava",
            "Slovensko"
           ],
           "labeledLatLngs": [
            {
             "label": "display",
             "lat": 48.147963604939996,
             "lng": 17.162468433380127
            }
           ],
           "lat": 48.147963604939996,
           "lng": 17.162468433380127,
           "postalCode": "821 05",
           "state": "Bratislavský kraj"
          },
          "name": "Company - sro",
          "referralId": "v-1600958352",
          "stats": {
           "checkinsCount": 0,
           "tipCount": 0,
           "usersCount": 0,
           "visitsCount": 0
          },
          "venueChains": [],
          "verified": false
         },
         {
          "beenHere": {
           "count": 0,
           "lastCheckinExpiredAt": 0,
           "marked": false,
           "unconfirmedCount": 0
          },
          "categories": [
           {
            "icon": {
             "prefix": "https://ss3.4sqi.net/img/categories_v2/food/coffeeshop_",
             "suffix": ".png"
            },
            "id": "4bf58dd8d48988d1e0931735",
            "name": "Coffee Shop",
            "pluralName": "Coffee Shops",
            "primary": true,
            "shortName": "Coffee Shop"
           }
          ],
          "contact": {},
          "hasPerk": false,
          "hereNow": {
           "count": 0,
           "groups": [],
           "summary": "Nobody here"
          },
          "id": "5911d45cacb00b3d410913f2",
          "location": {
           "address": "Bajkalská 19B",
           "cc": "SK",
           "city": "Bratislava",
           "country": "Slovensko",
           "crossStreet": "Ružinovská",
           "distance": 3066,
           "formattedAddress": [
            "Bajkalská 19B (Ružinovská)",
            "832 16 Bratislava",
            "Slovensko"
           ],
           "labeledLatLngs": [
            {
             "label": "display",
             "lat": 48.155853,
             "lng": 17.146744
            }
           ],
           "lat": 48.155853,
           "lng": 17.146744,
           "postalCode": "832 16",
           "state": "Bratislavský kraj"
          },
          "name": "Coffeshop Company",
          "referralId": "v-1600958352",
          "stats": {
           "checkinsCount": 0,
           "tipCount": 0,
           "usersCount": 0,
           "visitsCount": 0
          },
          "venueChains": [],
          "verified": false
         },
         {
          "beenHere": {
           "count": 0,
           "lastCheckinExpiredAt": 0,
           "marked": false,
           "unconfirmedCount": 0
          },
          "categories": [
           {
            "icon": {
             "prefix": "https://ss3.4sqi.net/img/categories_v2/food/coffeeshop_",
             "suffix": ".png"
            },
            "id": "4bf58dd8d48988d1e0931735",
            "name": "Coffee Shop",
            "pluralName": "Coffee Shops",
            "primary": true,
            "shortName": "Coffee Shop"
           }
          ],
          "contact": {},
          "hasPerk": false,
          "hereNow": {
           "count": 0,
           "groups": [],
           "summary": "Nobody here"
          },
          "id": "5ae99427bd4009002c110f9b",
          "location": {
           "cc": "SK",
           "city": "Bratislava",
           "country": "Slovensko",
           "distance": 2804,
           "formattedAddress": [
            "851 01 Bratislava",
            "Slovensko"
           ],
           "labeledLatLngs": [
            {
             "label": "display",
             "lat": 48.12762,
             "lng": 17.133152
            }
           ],
           "lat": 48.12762,
           "lng": 17.133152,
           "postalCode": "851 01",
           "state": "Bratislavský kraj"
          },
          "name": "Coffeeshop Company",
          "referralId": "v-1600958352",
          "stats": {
           "checkinsCount": 0,
           "tipCount": 0,
           "usersCount": 0,
           "visitsCount": 0
          },
          "venueChains": [],
          "verified": false
         },
         {
          "beenHere": {
           "count": 0,
           "lastCheckinExpiredAt": 0,
           "marked": false,
           "unconfirmedCount": 0
          },
          "categories": [
           {
            "icon": {
             "prefix": "https://ss3.4sqi.net/img/categories_v2/food/dessert_",
             "suffix": ".png"
            },
            "id": "4bf58dd8d48988d1d0941735",
            "name": "Dessert Shop",
            "pluralName": "Dessert Shops",
            "primary": true,
            "shortName": "Desserts"
           }
          ],
          "contact": {},
          "hasPerk": false,
          "hereNow": {
           "count": 0,
           "groups": [],
           "summary": "Nobody here"
          },
          "id": "542d036c498efb1c71799d25",
          "location": {
           "address": "Ovsištské nám. 1",
           "cc": "SK",
           "city": "Bratislava",
           "country": "Slovensko",
           "crossStreet": "Mamateyova",
           "distance": 3356,
           "formattedAddress": [
            "Ovsištské nám. 1 (Mamateyova)",
            "851 04 Bratislava",
            "Slovensko"
           ],
           "labeledLatLngs": [
            {
             "label": "display",
             "lat": 48.12012428225938,
             "lng": 17.130131721496582
            }
           ],
           "lat": 48.12012428225938,
           "lng": 17.130131721496582,
           "postalCode": "851 04",
           "state": "Bratislavský kraj"
          },
          "name": "City Cake Company",
          "referralId": "v-1600958352",
          "stats": {
           "checkinsCount": 0,
           "tipCount": 0,
           "usersCount": 0,
           "visitsCount": 0
          },
          "venueChains": [],
          "verified": false
         },
         {
          "beenHere": {
           "count": 0,
           "lastCheckinExpiredAt": 0,
           "marked": false,
           "unconfirmedCount": 0
          },
          "categories": [
           {
            "icon": {
             "prefix": "https://ss3.4sqi.net/img/categories_v2/building/gym_",
             "suffix": ".png"
            },
            "id": "4bf58dd8d48988d176941735",
            "name": "Gym",
            "pluralName": "Gyms",
            "primary": true,
            "shortName": "Gym"
           }
          ],
          "contact": {},
          "hasPerk": false,
          "hereNow": {
           "count": 0,
           "groups": [],
           "summary": "Nobody here"
          },
          "id": "52952f4811d2c99c7e6c2a44",
          "location": {
           "address": "Račianska 44",
           "cc": "SK",
           "city": "Braislava",
           "country": "Slovensko",
           "distance": 3318,
           "formattedAddress": [
            "Račianska 44",
            "814 99 Braislava",
            "Slovensko"
           ],
           "labeledLatLngs": [
            {
             "label": "display",
             "lat": 48.17302791311958,
             "lng": 17.12803691625595
            }
           ],
           "lat": 48.17302791311958,
           "lng": 17.12803691625595,
           "postalCode": "814 99"
          },
          "name": "Mondelez International company gym",
          "referralId": "v-1600958352",
          "stats": {
           "checkinsCount": 0,
           "tipCount": 0,
           "usersCount": 0,
           "visitsCount": 0
          },
          "venueChains": [],
          "verified": false
         },
         {
          "beenHere": {
           "count": 0,
           "lastCheckinExpiredAt": 0,
           "marked": false,
           "unconfirmedCount": 0
          },
          "categories": [
           {
            "icon": {
             "prefix": "https://ss3.4sqi.net/img/categories_v2/building/default_",
             "suffix": ".png"
            },
            "id": "4bf58dd8d48988d124941735",
            "name": "Office",
            "pluralName": "Offices",
            "primary": true,
            "shortName": "Office"
           }
          ],
          "contact": {},
          "hasPerk": false,
          "hereNow": {
           "count": 0,
           "groups": [],
           "summary": "Nobody here"
          },
          "id": "5406b7b0498e878c00cbe73f",
          "location": {
           "address": "Tomášikova 22",
           "cc": "SK",
           "city": "Bratislava",
           "country": "Slovensko",
           "distance": 4371,
           "formattedAddress": [
            "Tomášikova 22",
            "821 02 Bratislava",
            "Slovensko"
           ],
           "labeledLatLngs": [
            {
             "label": "display",
             "lat": 48.16006563843144,
             "lng": 17.16314987365798
            }
           ],
           "lat": 48.16006563843144,
           "lng": 17.16314987365798,
           "neighborhood": "Ružinov",
           "postalCode": "821 02",
           "state": "Bratislavský kraj"
          },
          "name": "Jadrová a vyraďovacia spoločnosť, a.s. ; Nuclear and Decommissioning Company",
          "referralId": "v-1600958352",
          "stats": {
           "checkinsCount": 0,
           "tipCount": 0,
           "usersCount": 0,
           "visitsCount": 0
          },
          "venueChains": [],
          "verified": false
         },
         {
          "beenHere": {
           "count": 0,
           "lastCheckinExpiredAt": 0,
           "marked": false,
           "unconfirmedCount": 0
          },
          "categories": [
           {
            "icon": {
             "prefix": "https://ss3.4sqi.net/img/categories_v2/food/cafe_",
             "suffix": ".png"
            },
            "id": "4bf58dd8d48988d16d941735",
            "name": "Café",
            "pluralName": "Cafés",
            "primary": true,
            "shortName": "Café"
           }
          ],
          "contact": {},
          "hasPerk": false,
          "hereNow": {
           "count": 0,
           "groups": [],
           "summary": "Nobody here"
          },
          "id": "54a97363498eca7232836978",
          "location": {
           "cc": "SK",
           "country": "Slovensko",
           "distance": 4972,
           "formattedAddress": [
            "Slovensko"
           ],
           "labeledLatLngs": [
            {
             "label": "display",
             "lat": 48.176329,
             "lng": 17.058273
            }
           ],
           "lat": 48.176329,
           "lng": 17.058273
          },
          "name": "Coffeeshop Company",
          "referralId": "v-1600958352",
          "stats": {
           "checkinsCount": 0,
           "tipCount": 0,
           "usersCount": 0,
           "visitsCount": 0
          },
          "venueChains": [],
          "verified": false
         },
         {
          "beenHere": {
           "count": 0,
           "lastCheckinExpiredAt": 0,
           "marked": false,
           "unconfirmedCount": 0
          },
          "categories": [
           {
            "icon": {
             "prefix": "https://ss3.4sqi.net/img/categories_v2/building/office_conferenceroom_",
             "suffix": ".png"
            },
            "id": "4bf58dd8d48988d127941735",
            "name": "Conference Room",
            "pluralName": "Conference Rooms",
            "primary": true,
            "shortName": "Conference room"
           }
          ],
          "contact": {},
          "hasPerk": false,
          "hereNow": {
           "count": 0,
           "groups": [],
           "summary": "Nobody here"
          },
          "id": "4f436696e4b0acfe422945f3",
          "location": {
           "cc": "SK",
           "country": "Slovensko",
           "distance": 4364,
           "formattedAddress": [
            "Slovensko"
           ],
           "labeledLatLngs": [
            {
             "label": "display",
             "lat": 48.17027333803204,
             "lng": 17.154590367009558
            }
           ],
           "lat": 48.17027333803204,
           "lng": 17.154590367009558
          },
          "name": "Favab Company",
          "referralId": "v-1600958352",
          "stats": {
           "checkinsCount": 0,
           "tipCount": 0,
           "usersCount": 0,
           "visitsCount": 0
          },
          "venueChains": [],
          "verified": false
         },
         {
          "beenHere": {
           "count": 0,
           "lastCheckinExpiredAt": 0,
           "marked": false,
           "unconfirmedCount": 0
          },
          "categories": [
           {
            "icon": {
             "prefix": "https://ss3.4sqi.net/img/categories_v2/building/default_",
             "suffix": ".png"
            },
            "id": "52e81612bcbc57f1066b7a3d",
            "name": "Advertising Agency",
            "pluralName": "Advertising Agencies",
            "primary": true,
            "shortName": "Advertising Agency"
           }
          ],
          "contact": {},
          "hasPerk": false,
          "hereNow": {
           "count": 0,
           "groups": [],
           "summary": "Nobody here"
          },
          "id": "53696bae498ed0f99d2edf25",
          "location": {
           "address": "Rusovská Cesta 17",
           "cc": "SK",
           "city": "Bratislava",
           "country": "Slovensko",
           "crossStreet": "Záporozská Ulica",
           "distance": 2375,
           "formattedAddress": [
            "Rusovská Cesta 17 (Záporozská Ulica)",
            "851 01 Bratislava",
            "Slovensko"
           ],
           "labeledLatLngs": [
            {
             "label": "display",
             "lat": 48.126502990722656,
             "lng": 17.096370697021484
            }
           ],
           "lat": 48.126502990722656,
           "lng": 17.096370697021484,
           "postalCode": "851 01",
           "state": "Bratislavský kraj"
          },
          "name": "Black Eye Comp.",
          "referralId": "v-1600958352",
          "stats": {
           "checkinsCount": 0,
           "tipCount": 0,
           "usersCount": 0,
           "visitsCount": 0
          },
          "venueChains": [],
          "verified": false
         }
        ]
       }
      },
      "text/plain": [
       "<IPython.core.display.JSON object>"
      ]
     },
     "execution_count": 33,
     "metadata": {
      "application/json": {
       "expanded": false,
       "root": "root"
      }
     },
     "output_type": "execute_result"
    }
   ],
   "source": [
    "JSON(get_venues('48.146394, 17.107969'))"
   ]
  },
  {
   "cell_type": "code",
   "execution_count": 16,
   "metadata": {},
   "outputs": [],
   "source": [
    "data.reset_index(drop=True,inplace=True)"
   ]
  },
  {
   "cell_type": "code",
   "execution_count": 21,
   "metadata": {},
   "outputs": [],
   "source": [
    "data_ll_list = []\n",
    "rng = default_rng()\n",
    "numbers = rng.choice(4000, size=50, replace=False)\n",
    "for number in numbers:\n",
    "    data_ll_list.append(data['ll'][number])"
   ]
  },
  {
   "cell_type": "code",
   "execution_count": 22,
   "metadata": {},
   "outputs": [
    {
     "data": {
      "text/plain": [
       "['39.16037061,-86.5336',\n",
       " '39.159440000000004,-86.53488',\n",
       " '39.208544,-86.591504',\n",
       " '39.136144,-86.528688',\n",
       " '39.20370561,-86.53729248',\n",
       " '39.16424,-86.4939483',\n",
       " '39.152,-86.3812',\n",
       " '39.31562042,-86.66162872',\n",
       " '39.176544,-86.5624',\n",
       " '39.16698971,-86.4924',\n",
       " '39.130944,-86.52668800000001',\n",
       " '39.247440000000005,-86.547792',\n",
       " '39.155708000000004,-86.548507',\n",
       " '39.085632000000004,-86.542304',\n",
       " '39.16142978,-86.54615754',\n",
       " '39.41013981,-86.51703486',\n",
       " '39.21206673,-86.58700874',\n",
       " '39.164752,-86.573104',\n",
       " '39.13994939,-86.53920947',\n",
       " '39.105552,-86.55110400000001',\n",
       " '39.176848,-86.533424',\n",
       " '39.16558988,-86.53488971',\n",
       " '39.09609988,-86.51704028',\n",
       " '39.171648,-86.50249682',\n",
       " '39.108847999999995,-86.6384',\n",
       " '39.16862775,-86.52286299',\n",
       " '39.14640902,-86.53238389',\n",
       " '39.16424,-86.492944',\n",
       " '39.16461021,-86.57913006',\n",
       " '39.18336019,-86.53415009',\n",
       " '39.16713579,-86.49984108',\n",
       " '39.09640983,-86.65773420000001',\n",
       " '39.251296,-86.50083199999999',\n",
       " '39.165344,-86.484128',\n",
       " '39.16425012,-86.51525996',\n",
       " '39.18184,-86.5284',\n",
       " '39.125312,-86.610496',\n",
       " '39.16074984,-86.54850997',\n",
       " '39.15483009,-86.40734052',\n",
       " '39.175952,-86.53344',\n",
       " '39.14327171,-86.5768703',\n",
       " '39.16936,-86.497952',\n",
       " '39.27146912,-86.67016876',\n",
       " '39.25071158,-86.57777018',\n",
       " '39.13599975,-86.50407401',\n",
       " '39.17344,-86.527056',\n",
       " '39.33676612,-86.51067628',\n",
       " '39.22079514,-86.61991976',\n",
       " '39.16427024,-86.50241017',\n",
       " '39.093744,-86.638304']"
      ]
     },
     "execution_count": 22,
     "metadata": {},
     "output_type": "execute_result"
    }
   ],
   "source": [
    "data_ll_list"
   ]
  },
  {
   "cell_type": "code",
   "execution_count": 198,
   "metadata": {},
   "outputs": [
    {
     "data": {
      "text/plain": [
       "array([2565, 2642, 2249,  312, 1195, 3086, 1412,  295, 2765, 3434,  522,\n",
       "       1417, 1021, 2628, 2939,  284, 2263, 1385, 2408, 2312,  493, 1246,\n",
       "       1695, 1368, 1712,  477,  816, 2772, 3837, 2432,  483, 3751, 2205,\n",
       "       2001, 3625,  614, 3363, 2126, 2920,  191, 3604,   78, 3026, 3636,\n",
       "       2560, 2124, 3197, 2318,  415, 1876, 3152, 1916,  791,  863, 3231,\n",
       "       2388, 2645, 3742, 2291, 1469, 3775, 1145, 2006, 3677, 1479, 1993,\n",
       "        499,  881, 1729, 2655, 2624, 1444, 1997,  932, 3345, 2825, 2608,\n",
       "       1188, 3889, 1286, 1705,  119, 1969, 3579, 3548, 2066, 1593, 1870,\n",
       "       2912, 3311, 3422, 3316, 3531, 3459,  485, 1045, 1232, 1556,  289,\n",
       "       1590], dtype=int64)"
      ]
     },
     "execution_count": 198,
     "metadata": {},
     "output_type": "execute_result"
    }
   ],
   "source": [
    "rng = default_rng()\n",
    "numbers = rng.choice(4000, size=100, replace=False)\n",
    "numbers"
   ]
  },
  {
   "cell_type": "code",
   "execution_count": 186,
   "metadata": {},
   "outputs": [],
   "source": [
    "d = pd.DataFrame({\"name\": ['Alfred', 'Batman', 'Catwoman'],\n",
    "                   \"toy\": [np.nan, 'Batmobile', 'Bullwhip'],\n",
    "                   \"born\": ['Alpha', pd.Timestamp(\"1940-04-25\"),\n",
    "                            \"nonnnn\"]})"
   ]
  },
  {
   "cell_type": "code",
   "execution_count": 215,
   "metadata": {},
   "outputs": [
    {
     "data": {
      "text/plain": [
       "Master Record Number                       902369518\n",
       "Year                                            2015\n",
       "Month                                              1\n",
       "Day                                                4\n",
       "Weekend?                                     Weekday\n",
       "Hour                                            2200\n",
       "Collision Type                                 1-Car\n",
       "Injury Type                        No injury/unknown\n",
       "Primary Factor                    RAN OFF ROAD RIGHT\n",
       "Reported_Location                S ROCKPORT & VICTOR\n",
       "Latitude                                     39.0537\n",
       "Longitude                                   -86.6063\n",
       "ll                      39.053744,-86.60630400000001\n",
       "Name: 58, dtype: object"
      ]
     },
     "execution_count": 215,
     "metadata": {},
     "output_type": "execute_result"
    }
   ],
   "source": [
    "data.loc[58]"
   ]
  },
  {
   "cell_type": "code",
   "execution_count": 187,
   "metadata": {},
   "outputs": [
    {
     "data": {
      "text/html": [
       "<div>\n",
       "<style scoped>\n",
       "    .dataframe tbody tr th:only-of-type {\n",
       "        vertical-align: middle;\n",
       "    }\n",
       "\n",
       "    .dataframe tbody tr th {\n",
       "        vertical-align: top;\n",
       "    }\n",
       "\n",
       "    .dataframe thead th {\n",
       "        text-align: right;\n",
       "    }\n",
       "</style>\n",
       "<table border=\"1\" class=\"dataframe\">\n",
       "  <thead>\n",
       "    <tr style=\"text-align: right;\">\n",
       "      <th></th>\n",
       "      <th>name</th>\n",
       "      <th>toy</th>\n",
       "      <th>born</th>\n",
       "    </tr>\n",
       "  </thead>\n",
       "  <tbody>\n",
       "    <tr>\n",
       "      <th>0</th>\n",
       "      <td>Alfred</td>\n",
       "      <td>NaN</td>\n",
       "      <td>Alpha</td>\n",
       "    </tr>\n",
       "    <tr>\n",
       "      <th>1</th>\n",
       "      <td>Batman</td>\n",
       "      <td>Batmobile</td>\n",
       "      <td>1940-04-25 00:00:00</td>\n",
       "    </tr>\n",
       "    <tr>\n",
       "      <th>2</th>\n",
       "      <td>Catwoman</td>\n",
       "      <td>Bullwhip</td>\n",
       "      <td>nonnnn</td>\n",
       "    </tr>\n",
       "  </tbody>\n",
       "</table>\n",
       "</div>"
      ],
      "text/plain": [
       "       name        toy                 born\n",
       "0    Alfred        NaN                Alpha\n",
       "1    Batman  Batmobile  1940-04-25 00:00:00\n",
       "2  Catwoman   Bullwhip               nonnnn"
      ]
     },
     "execution_count": 187,
     "metadata": {},
     "output_type": "execute_result"
    }
   ],
   "source": [
    "d"
   ]
  },
  {
   "cell_type": "code",
   "execution_count": null,
   "metadata": {},
   "outputs": [],
   "source": []
  },
  {
   "cell_type": "markdown",
   "metadata": {},
   "source": [
    "# Visual Crossing API\n",
    "\n",
    "Virtual Crossing API documentation is [here](https://www.visualcrossing.com/resources/documentation/)\n",
    "\n",
    "1. Sign up for FREE api key if you haven't done that before.\n",
    "2. For each crush, get the weather for the location and date.\n",
    "3. Find a relationship between the weather and severity of the crash.\n",
    "\n",
    "Hints:\n",
    "\n",
    "* randomly sample only 250 or so (due to API limits), or pull weather only for smaller sample of crashes\n",
    "* for sending HTTP requests check out \"requests\" library [here](http://docs.python-requests.org/en/master/)\n"
   ]
  },
  {
   "cell_type": "code",
   "execution_count": 193,
   "metadata": {},
   "outputs": [],
   "source": [
    "import requests\n",
    "import time\n",
    "api_key = os.environ[\"<>\"]"
   ]
  },
  {
   "cell_type": "code",
   "execution_count": null,
   "metadata": {},
   "outputs": [],
   "source": []
  },
  {
   "cell_type": "code",
   "execution_count": null,
   "metadata": {},
   "outputs": [],
   "source": []
  }
 ],
 "metadata": {
  "kernelspec": {
   "display_name": "Python 3",
   "language": "python",
   "name": "python3"
  },
  "language_info": {
   "codemirror_mode": {
    "name": "ipython",
    "version": 3
   },
   "file_extension": ".py",
   "mimetype": "text/x-python",
   "name": "python",
   "nbconvert_exporter": "python",
   "pygments_lexer": "ipython3",
   "version": "3.8.5"
  }
 },
 "nbformat": 4,
 "nbformat_minor": 4
}
